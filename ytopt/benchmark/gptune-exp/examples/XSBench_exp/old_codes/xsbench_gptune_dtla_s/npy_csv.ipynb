{
 "cells": [
  {
   "cell_type": "code",
   "execution_count": null,
   "metadata": {},
   "outputs": [],
   "source": [
    "import numpy as np\n",
    "import pandas as pd "
   ]
  },
  {
   "cell_type": "code",
   "execution_count": null,
   "metadata": {},
   "outputs": [],
   "source": [
    "dat = np.load('./save_results.npy', allow_pickle=True)"
   ]
  },
  {
   "cell_type": "code",
   "execution_count": null,
   "metadata": {},
   "outputs": [],
   "source": [
    "len(dat)"
   ]
  },
  {
   "cell_type": "code",
   "execution_count": null,
   "metadata": {},
   "outputs": [],
   "source": [
    "input_sizes = {}\n",
    "input_sizes['s']  = [100000] \n",
    "input_sizes['sm'] = [500000]\n",
    "input_sizes['m']  = [1000000]\n",
    "input_sizes['ml'] = [2500000]\n",
    "input_sizes['l']  = [5000000]\n",
    "input_sizes['xl'] = [10000000]\n",
    "o3p_time = {}\n",
    "o3p_time['s']  = [0.297755] \n",
    "o3p_time['sm'] = [1.506179]\n",
    "o3p_time['m']  = [3.00738] \n",
    "o3p_time['ml'] = [7.544698]\n",
    "o3p_time['l']  = [15.0962]\n",
    "o3p_time['xl'] = [30.0485]"
   ]
  },
  {
   "cell_type": "code",
   "execution_count": null,
   "metadata": {},
   "outputs": [],
   "source": []
  },
  {
   "cell_type": "code",
   "execution_count": null,
   "metadata": {},
   "outputs": [],
   "source": [
    "data_size = []\n",
    "for i in range(len(dat)):\n",
    "    row = dat[i]\n",
    "    input_tmp = [row[0]]\n",
    "    param_tmp = list(row[1])\n",
    "    obj_tmp   = [row[2]]\n",
    "    elapsed_tmp   = [row[3]]\n",
    "    row_tmp = input_tmp+param_tmp+obj_tmp+elapsed_tmp\n",
    "    data_size.append(row_tmp)"
   ]
  },
  {
   "cell_type": "code",
   "execution_count": null,
   "metadata": {},
   "outputs": [],
   "source": [
    "column_names = ['input','p0','p1','p2','p3','p4','p5','p6','p7','objective','elapsed_sec']\n",
    "my_array = np.array(data_size)\n",
    "df = pd.DataFrame(my_array, columns =column_names)"
   ]
  },
  {
   "cell_type": "code",
   "execution_count": null,
   "metadata": {},
   "outputs": [],
   "source": [
    "real_s = df.loc[df['input'] == str(input_sizes['s'][0])]\n",
    "real_m = df.loc[df['input'] == str(input_sizes['m'][0])]\n",
    "real_l = df.loc[df['input'] == str(input_sizes['l'][0])]\n",
    "real_sm = df.loc[df['input'] == str(input_sizes['sm'][0])]\n",
    "real_ml = df.loc[df['input'] == str(input_sizes['ml'][0])]\n",
    "real_xl = df.loc[df['input'] == str(input_sizes['xl'][0])]"
   ]
  },
  {
   "cell_type": "code",
   "execution_count": null,
   "metadata": {},
   "outputs": [],
   "source": [
    "# real_s.to_csv('./results_gptune_s_xsbench_mla.csv',index=False)\n",
    "# real_m.to_csv('./results_gptune_m_xsbench_mla.csv',index=False)\n",
    "# real_l.to_csv('./results_gptune_l_xsbench_mla.csv',index=False)\n",
    "# real_sm.to_csv('./results_gptune_sm_xsbench_mla_tla1.csv',index=False)\n",
    "# real_ml.to_csv('./results_gptune_ml_xsbench_mla_tla1.csv',index=False)\n",
    "# real_xl.to_csv('./results_gptune_xl_xsbench_mla_tla1.csv',index=False)"
   ]
  },
  {
   "cell_type": "code",
   "execution_count": null,
   "metadata": {},
   "outputs": [],
   "source": [
    "speedup_s = o3p_time['s'][0] / real_s['objective'].astype(float)\n",
    "speedup_m = o3p_time['m'][0] / real_m['objective'].astype(float)\n",
    "speedup_l = o3p_time['l'][0] / real_l['objective'].astype(float)\n",
    "speedup_s =  real_s['objective'].astype(float)\n",
    "speedup_m =  real_m['objective'].astype(float)\n",
    "speedup_l =  real_l['objective'].astype(float)"
   ]
  },
  {
   "cell_type": "code",
   "execution_count": null,
   "metadata": {
    "scrolled": true
   },
   "outputs": [],
   "source": [
    "import sys, os, time, glob\n",
    "import numpy as np\n",
    "from datetime import datetime\n",
    "from statistics import median\n",
    "import matplotlib.pyplot as plt\n",
    "import statsmodels.api as sm\n",
    "import csv\n",
    "from csv import writer\n",
    "from csv import reader\n",
    "import pandas as pd \n"
   ]
  },
  {
   "cell_type": "code",
   "execution_count": null,
   "metadata": {},
   "outputs": [],
   "source": [
    "fig, axs = plt.subplots(1,3, figsize=(15, 3), sharex=True, sharey=False)\n",
    "for ax, d_size, speedup in zip(axs.flat,['s','m','l'],[speedup_s,speedup_m,speedup_l]):\n",
    "# for cc in gathered:\n",
    "#     ax.scatter(*np.random.normal(size=(2,200)))\n",
    "#     ax.set_title(kernel+d_size,fontsize=14)\n",
    "#     dict_s = cc\n",
    "#     #     dict_s['-O3 Polly'] = [0] *1000\n",
    "#     for k, v in dict_s.items():\n",
    "#         if k == 'bo':\n",
    "#             k = 'BO'\n",
    "#             color = 'blue'\n",
    "#         if k == 'rs':\n",
    "#             k = 'RS'\n",
    "#             color = 'orange'\n",
    "    color = 'blue'\n",
    "    v = speedup.values\n",
    "    kernel = 'xsbench_'\n",
    "    k = 'GPTune'# +d_size\n",
    "    ax.plot(range(1, len(v) + 1), v, '.-', label=k,linewidth=0.5,markersize=3,color=color)\n",
    "        # NOTE: changed `range(1, 4)` to mach actual values count\n",
    "    ax.legend(fontsize=13)#,loc='center right')  # To draw legend\n",
    "    #     plt.title(k_name[:-1],fontsize=14)\n",
    "    # plt.xlim(0,max_exp+10)\n",
    "    #     plt.ylim(bottom=0.5)\n",
    "    ax.set_ylabel('Execution time (sec.)', fontsize=12)\n",
    "    ax.set_xlabel('No. of evaluations', fontsize=12)\n",
    "    ax.set_title(kernel+d_size,fontsize=12)\n",
    "    ax.tick_params(axis=\"x\", labelsize=12) \n",
    "    ax.tick_params(axis=\"y\", labelsize=12) \n",
    "#     ax.set_xticklabels(fontsize=14)\n",
    "#     ax.set_yticklabels(fontsize=14)\n",
    "    ax.grid()\n",
    "#     plt.show()"
   ]
  },
  {
   "cell_type": "code",
   "execution_count": null,
   "metadata": {},
   "outputs": [],
   "source": [
    "speedup_sm.values"
   ]
  },
  {
   "cell_type": "code",
   "execution_count": null,
   "metadata": {},
   "outputs": [],
   "source": []
  },
  {
   "cell_type": "code",
   "execution_count": null,
   "metadata": {
    "scrolled": true
   },
   "outputs": [],
   "source": []
  },
  {
   "cell_type": "code",
   "execution_count": null,
   "metadata": {},
   "outputs": [],
   "source": [
    "speedup_s_gp = o3p_time['s'][0] / real_s_gp['objective'].astype(float)\n",
    "speedup_m_gp = o3p_time['m'][0] / real_m_gp['objective'].astype(float)\n",
    "speedup_l_gp = o3p_time['l'][0] / real_l_gp['objective'].astype(float)"
   ]
  },
  {
   "cell_type": "code",
   "execution_count": null,
   "metadata": {},
   "outputs": [],
   "source": [
    "speedup_sm = o3p_time['sm'][0] / real_sm['objective'].astype(float)\n",
    "speedup_ml = o3p_time['ml'][0] / real_ml['objective'].astype(float)\n",
    "speedup_xl = o3p_time['xl'][0] / real_xl['objective'].astype(float)"
   ]
  },
  {
   "cell_type": "code",
   "execution_count": null,
   "metadata": {},
   "outputs": [],
   "source": []
  },
  {
   "cell_type": "code",
   "execution_count": null,
   "metadata": {},
   "outputs": [],
   "source": [
    "from prettytable import PrettyTable \n",
    "  \n",
    "# Specify the Column Names while initializing the Table \n",
    "myTable = PrettyTable([\"Methond\", \"SM\", \"ML\", \"XL\"]) \n",
    "\n",
    "speedup_sm_gc = 7.798177535012554\n",
    "speedup_ml_gc = 5.269287797042237\n",
    "speedup_xl_gc = 7.815239046415214\n",
    "\n",
    "# Add rows \n",
    "myTable.add_row([\"GPTune TLA1\",  str(speedup_sm.values[0])[:5], str(speedup_ml.values[0])[:5],str(speedup_xl.values[0])[:5]]) \n",
    "myTable.add_row([\"GC\", str(speedup_sm_gc)[:5], str(speedup_ml_gc)[:5],str(speedup_xl_gc)[:5]]) \n",
    "\n",
    "  \n",
    "print(myTable)"
   ]
  },
  {
   "cell_type": "code",
   "execution_count": null,
   "metadata": {},
   "outputs": [],
   "source": []
  },
  {
   "cell_type": "code",
   "execution_count": null,
   "metadata": {},
   "outputs": [],
   "source": []
  },
  {
   "cell_type": "code",
   "execution_count": null,
   "metadata": {},
   "outputs": [],
   "source": []
  },
  {
   "cell_type": "code",
   "execution_count": null,
   "metadata": {},
   "outputs": [],
   "source": []
  },
  {
   "cell_type": "code",
   "execution_count": null,
   "metadata": {},
   "outputs": [],
   "source": []
  },
  {
   "cell_type": "code",
   "execution_count": null,
   "metadata": {},
   "outputs": [],
   "source": [
    "fig, axs = plt.subplots(1,3, figsize=(15, 3), sharex=True, sharey=True)\n",
    "for ax, cc, d_size, cutoff in zip(axs.flat,gathered,d_sizes,cutoffs):\n",
    "# for cc in gathered:\n",
    "#     ax.scatter(*np.random.normal(size=(2,200)))\n",
    "#     ax.set_title(kernel+d_size,fontsize=14)\n",
    "    dict_s = cc\n",
    "    #     dict_s['-O3 Polly'] = [0] *1000\n",
    "    for k, v in dict_s.items():\n",
    "        if k == 'bo':\n",
    "            k = 'BO'\n",
    "            color = 'blue'\n",
    "        if k == 'rs':\n",
    "            k = 'RS'\n",
    "            color = 'orange'\n",
    "        ax.plot(range(1, len(v) + 1), v, '.-', label=k,linewidth=1.5,markersize=1.5,color=color)\n",
    "        # NOTE: changed `range(1, 4)` to mach actual values count\n",
    "    ax.legend(fontsize=13)#,loc='center right')  # To draw legend\n",
    "    #     plt.title(k_name[:-1],fontsize=14)\n",
    "    # plt.xlim(0,max_exp+10)\n",
    "    #     plt.ylim(bottom=0.5)\n",
    "    ax.set_ylabel('No. of config speedup > top '+str(alpha*100)+'%''='+str(cutoff)[:4], fontsize=12)\n",
    "    ax.set_xlabel('No. of evaluations', fontsize=12)\n",
    "    ax.set_title(kernel+d_size,fontsize=12)\n",
    "    ax.tick_params(axis=\"x\", labelsize=12) \n",
    "    ax.tick_params(axis=\"y\", labelsize=12) \n",
    "#     ax.set_xticklabels(fontsize=14)\n",
    "#     ax.set_yticklabels(fontsize=14)\n",
    "    ax.grid()\n",
    "#     plt.show()"
   ]
  },
  {
   "cell_type": "code",
   "execution_count": null,
   "metadata": {},
   "outputs": [],
   "source": [
    "import numpy as np"
   ]
  },
  {
   "cell_type": "code",
   "execution_count": null,
   "metadata": {},
   "outputs": [],
   "source": []
  },
  {
   "cell_type": "code",
   "execution_count": null,
   "metadata": {},
   "outputs": [],
   "source": [
    "import random"
   ]
  },
  {
   "cell_type": "code",
   "execution_count": null,
   "metadata": {},
   "outputs": [],
   "source": [
    "random.uniform(0, 1)"
   ]
  },
  {
   "cell_type": "code",
   "execution_count": null,
   "metadata": {},
   "outputs": [],
   "source": [
    "results =[random.uniform(0, 1), random.uniform(0, 1), random.uniform(0, 1)]"
   ]
  },
  {
   "cell_type": "code",
   "execution_count": null,
   "metadata": {},
   "outputs": [],
   "source": [
    "float(np.mean(results[1:]))"
   ]
  },
  {
   "cell_type": "code",
   "execution_count": null,
   "metadata": {},
   "outputs": [],
   "source": []
  },
  {
   "cell_type": "code",
   "execution_count": null,
   "metadata": {},
   "outputs": [],
   "source": []
  }
 ],
 "metadata": {
  "kernelspec": {
   "display_name": "ytune",
   "language": "python",
   "name": "ytune"
  },
  "language_info": {
   "codemirror_mode": {
    "name": "ipython",
    "version": 3
   },
   "file_extension": ".py",
   "mimetype": "text/x-python",
   "name": "python",
   "nbconvert_exporter": "python",
   "pygments_lexer": "ipython3",
   "version": "3.7.11"
  }
 },
 "nbformat": 4,
 "nbformat_minor": 4
}
