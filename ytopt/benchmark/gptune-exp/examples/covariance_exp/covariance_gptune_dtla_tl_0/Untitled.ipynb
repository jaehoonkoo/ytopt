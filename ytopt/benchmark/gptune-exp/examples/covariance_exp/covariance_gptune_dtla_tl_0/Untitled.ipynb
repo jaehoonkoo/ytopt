{
 "cells": [
  {
   "cell_type": "code",
   "execution_count": null,
   "metadata": {},
   "outputs": [],
   "source": [
    "for i, j in zip([1,2,3],[''])"
   ]
  }
 ],
 "metadata": {
  "kernelspec": {
   "display_name": "ytune",
   "language": "python",
   "name": "ytune"
  },
  "language_info": {
   "codemirror_mode": {
    "name": "ipython",
    "version": 3
   },
   "file_extension": ".py",
   "mimetype": "text/x-python",
   "name": "python",
   "nbconvert_exporter": "python",
   "pygments_lexer": "ipython3",
   "version": "3.7.11"
  }
 },
 "nbformat": 4,
 "nbformat_minor": 4
}
