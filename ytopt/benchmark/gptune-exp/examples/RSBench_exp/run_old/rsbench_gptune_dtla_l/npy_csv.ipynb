{
 "cells": [
  {
   "cell_type": "code",
   "execution_count": 1,
   "metadata": {},
   "outputs": [],
   "source": [
    "import numpy as np\n",
    "import pandas as pd "
   ]
  },
  {
   "cell_type": "code",
   "execution_count": 2,
   "metadata": {},
   "outputs": [],
   "source": [
    "# npy_name = './save_results_sla_s_rsbench.npy'\n",
    "npy_name = './save_results_sla_m_rsbench.npy'\n",
    "npy_name = './save_results_sla_l_rsbench.npy'\n",
    "\n",
    "# npy_name = './save_results_dtla_sm_xsbench.npy'\n",
    "# npy_name = './save_results_dtla_ml_xsbench.npy'\n",
    "# npy_name = './save_results_dtla_xl_xsbench.npy'\n",
    "dat = np.load(npy_name, allow_pickle=True)"
   ]
  },
  {
   "cell_type": "code",
   "execution_count": 3,
   "metadata": {},
   "outputs": [
    {
     "data": {
      "text/plain": [
       "103"
      ]
     },
     "execution_count": 3,
     "metadata": {},
     "output_type": "execute_result"
    }
   ],
   "source": [
    "len(dat)"
   ]
  },
  {
   "cell_type": "code",
   "execution_count": 4,
   "metadata": {},
   "outputs": [],
   "source": [
    "input_sizes = {}\n",
    "input_sizes['s']  = [100000] \n",
    "input_sizes['sm'] = [500000]\n",
    "input_sizes['m']  = [1000000]\n",
    "input_sizes['ml'] = [2500000]\n",
    "input_sizes['l']  = [5000000]\n",
    "input_sizes['xl'] = [10000000]\n",
    "o3p_time = {}\n",
    "o3p_time['s']  = [1.7527] \n",
    "o3p_time['sm'] = [8.826997]\n",
    "o3p_time['m']  = [17.7599] \n",
    "o3p_time['ml'] = [43.731217]\n",
    "o3p_time['l']  = [88.3151]\n",
    "o3p_time['xl'] = [176.762]"
   ]
  },
  {
   "cell_type": "code",
   "execution_count": null,
   "metadata": {},
   "outputs": [],
   "source": []
  },
  {
   "cell_type": "code",
   "execution_count": 5,
   "metadata": {},
   "outputs": [],
   "source": [
    "data_size = []\n",
    "for i in range(len(dat)):\n",
    "    row = dat[i]\n",
    "    input_tmp = [row[0]]\n",
    "    param_tmp = list(row[1])\n",
    "    obj_tmp   = [row[2]]\n",
    "    elapsed_tmp   = [row[3]]\n",
    "    row_tmp = input_tmp+param_tmp+obj_tmp+elapsed_tmp\n",
    "    data_size.append(row_tmp)"
   ]
  },
  {
   "cell_type": "code",
   "execution_count": 6,
   "metadata": {},
   "outputs": [],
   "source": [
    "column_names = ['input','p0','p1','p2','p3','p4','p5','p6','p7','p8','objective','elapsed_sec']\n",
    "my_array = np.array(data_size)\n",
    "df = pd.DataFrame(my_array, columns =column_names)"
   ]
  },
  {
   "cell_type": "code",
   "execution_count": 7,
   "metadata": {},
   "outputs": [
    {
     "data": {
      "text/html": [
       "<div>\n",
       "<style scoped>\n",
       "    .dataframe tbody tr th:only-of-type {\n",
       "        vertical-align: middle;\n",
       "    }\n",
       "\n",
       "    .dataframe tbody tr th {\n",
       "        vertical-align: top;\n",
       "    }\n",
       "\n",
       "    .dataframe thead th {\n",
       "        text-align: right;\n",
       "    }\n",
       "</style>\n",
       "<table border=\"1\" class=\"dataframe\">\n",
       "  <thead>\n",
       "    <tr style=\"text-align: right;\">\n",
       "      <th></th>\n",
       "      <th>input</th>\n",
       "      <th>p0</th>\n",
       "      <th>p1</th>\n",
       "      <th>p2</th>\n",
       "      <th>p3</th>\n",
       "      <th>p4</th>\n",
       "      <th>p5</th>\n",
       "      <th>p6</th>\n",
       "      <th>p7</th>\n",
       "      <th>p8</th>\n",
       "      <th>objective</th>\n",
       "      <th>elapsed_sec</th>\n",
       "    </tr>\n",
       "  </thead>\n",
       "  <tbody>\n",
       "    <tr>\n",
       "      <th>0</th>\n",
       "      <td>5000000</td>\n",
       "      <td>4</td>\n",
       "      <td>400</td>\n",
       "      <td></td>\n",
       "      <td>#pragma omp parallel for</td>\n",
       "      <td>8</td>\n",
       "      <td>32</td>\n",
       "      <td>20</td>\n",
       "      <td>balanced</td>\n",
       "      <td>cores</td>\n",
       "      <td>66.28905499999999</td>\n",
       "      <td>212.45037508010864</td>\n",
       "    </tr>\n",
       "    <tr>\n",
       "      <th>1</th>\n",
       "      <td>5000000</td>\n",
       "      <td>4</td>\n",
       "      <td>400</td>\n",
       "      <td></td>\n",
       "      <td></td>\n",
       "      <td>4</td>\n",
       "      <td>2</td>\n",
       "      <td>128</td>\n",
       "      <td>disabled</td>\n",
       "      <td>threads</td>\n",
       "      <td>66.04524</td>\n",
       "      <td>421.82562494277954</td>\n",
       "    </tr>\n",
       "    <tr>\n",
       "      <th>2</th>\n",
       "      <td>5000000</td>\n",
       "      <td>7</td>\n",
       "      <td>640</td>\n",
       "      <td></td>\n",
       "      <td>#pragma omp parallel for</td>\n",
       "      <td>8</td>\n",
       "      <td>4</td>\n",
       "      <td>80</td>\n",
       "      <td>none</td>\n",
       "      <td>cores</td>\n",
       "      <td>65.745635</td>\n",
       "      <td>630.543310880661</td>\n",
       "    </tr>\n",
       "    <tr>\n",
       "      <th>3</th>\n",
       "      <td>5000000</td>\n",
       "      <td>7</td>\n",
       "      <td>800</td>\n",
       "      <td>#pragma clang loop unrolling full</td>\n",
       "      <td>#pragma omp parallel for</td>\n",
       "      <td>32</td>\n",
       "      <td>2</td>\n",
       "      <td>64</td>\n",
       "      <td>disabled</td>\n",
       "      <td>cores</td>\n",
       "      <td>65.79975</td>\n",
       "      <td>839.3893246650696</td>\n",
       "    </tr>\n",
       "    <tr>\n",
       "      <th>4</th>\n",
       "      <td>5000000</td>\n",
       "      <td>4</td>\n",
       "      <td>800</td>\n",
       "      <td></td>\n",
       "      <td>#pragma omp parallel for</td>\n",
       "      <td>96</td>\n",
       "      <td>2</td>\n",
       "      <td>160</td>\n",
       "      <td>scatter</td>\n",
       "      <td>threads</td>\n",
       "      <td>65.78039</td>\n",
       "      <td>1048.171800851822</td>\n",
       "    </tr>\n",
       "    <tr>\n",
       "      <th>...</th>\n",
       "      <td>...</td>\n",
       "      <td>...</td>\n",
       "      <td>...</td>\n",
       "      <td>...</td>\n",
       "      <td>...</td>\n",
       "      <td>...</td>\n",
       "      <td>...</td>\n",
       "      <td>...</td>\n",
       "      <td>...</td>\n",
       "      <td>...</td>\n",
       "      <td>...</td>\n",
       "      <td>...</td>\n",
       "    </tr>\n",
       "    <tr>\n",
       "      <th>98</th>\n",
       "      <td>5000000</td>\n",
       "      <td>8</td>\n",
       "      <td>200</td>\n",
       "      <td>#pragma clang loop unrolling full</td>\n",
       "      <td>#pragma omp parallel for</td>\n",
       "      <td>8</td>\n",
       "      <td>32</td>\n",
       "      <td>64</td>\n",
       "      <td>compact</td>\n",
       "      <td>cores</td>\n",
       "      <td>66.04209</td>\n",
       "      <td>20724.084919691086</td>\n",
       "    </tr>\n",
       "    <tr>\n",
       "      <th>99</th>\n",
       "      <td>5000000</td>\n",
       "      <td>7</td>\n",
       "      <td>100</td>\n",
       "      <td></td>\n",
       "      <td></td>\n",
       "      <td>96</td>\n",
       "      <td>8</td>\n",
       "      <td>80</td>\n",
       "      <td>none</td>\n",
       "      <td>sockets</td>\n",
       "      <td>66.46315999999999</td>\n",
       "      <td>20934.76652431488</td>\n",
       "    </tr>\n",
       "    <tr>\n",
       "      <th>100</th>\n",
       "      <td>5000000</td>\n",
       "      <td>8</td>\n",
       "      <td>200</td>\n",
       "      <td>#pragma clang loop unrolling full</td>\n",
       "      <td>#pragma omp parallel for</td>\n",
       "      <td>128</td>\n",
       "      <td>2</td>\n",
       "      <td>200</td>\n",
       "      <td>explicit</td>\n",
       "      <td>cores</td>\n",
       "      <td>65.27795499999999</td>\n",
       "      <td>21147.119249105453</td>\n",
       "    </tr>\n",
       "    <tr>\n",
       "      <th>101</th>\n",
       "      <td>5000000</td>\n",
       "      <td>7</td>\n",
       "      <td>200</td>\n",
       "      <td>#pragma clang loop unrolling full</td>\n",
       "      <td></td>\n",
       "      <td>4</td>\n",
       "      <td>128</td>\n",
       "      <td>10</td>\n",
       "      <td>compact</td>\n",
       "      <td>threads</td>\n",
       "      <td>65.703485</td>\n",
       "      <td>21360.61155438423</td>\n",
       "    </tr>\n",
       "    <tr>\n",
       "      <th>102</th>\n",
       "      <td>5000000</td>\n",
       "      <td>8</td>\n",
       "      <td>800</td>\n",
       "      <td></td>\n",
       "      <td>#pragma omp parallel for</td>\n",
       "      <td>2</td>\n",
       "      <td>32</td>\n",
       "      <td>10</td>\n",
       "      <td>balanced</td>\n",
       "      <td>cores</td>\n",
       "      <td>65.353555</td>\n",
       "      <td>21573.04679465294</td>\n",
       "    </tr>\n",
       "  </tbody>\n",
       "</table>\n",
       "<p>103 rows × 12 columns</p>\n",
       "</div>"
      ],
      "text/plain": [
       "       input p0   p1                                 p2  \\\n",
       "0    5000000  4  400                                      \n",
       "1    5000000  4  400                                      \n",
       "2    5000000  7  640                                      \n",
       "3    5000000  7  800  #pragma clang loop unrolling full   \n",
       "4    5000000  4  800                                      \n",
       "..       ... ..  ...                                ...   \n",
       "98   5000000  8  200  #pragma clang loop unrolling full   \n",
       "99   5000000  7  100                                      \n",
       "100  5000000  8  200  #pragma clang loop unrolling full   \n",
       "101  5000000  7  200  #pragma clang loop unrolling full   \n",
       "102  5000000  8  800                                      \n",
       "\n",
       "                           p3   p4   p5   p6        p7       p8  \\\n",
       "0    #pragma omp parallel for    8   32   20  balanced    cores   \n",
       "1                                4    2  128  disabled  threads   \n",
       "2    #pragma omp parallel for    8    4   80      none    cores   \n",
       "3    #pragma omp parallel for   32    2   64  disabled    cores   \n",
       "4    #pragma omp parallel for   96    2  160   scatter  threads   \n",
       "..                        ...  ...  ...  ...       ...      ...   \n",
       "98   #pragma omp parallel for    8   32   64   compact    cores   \n",
       "99                              96    8   80      none  sockets   \n",
       "100  #pragma omp parallel for  128    2  200  explicit    cores   \n",
       "101                              4  128   10   compact  threads   \n",
       "102  #pragma omp parallel for    2   32   10  balanced    cores   \n",
       "\n",
       "             objective         elapsed_sec  \n",
       "0    66.28905499999999  212.45037508010864  \n",
       "1             66.04524  421.82562494277954  \n",
       "2            65.745635    630.543310880661  \n",
       "3             65.79975   839.3893246650696  \n",
       "4             65.78039   1048.171800851822  \n",
       "..                 ...                 ...  \n",
       "98            66.04209  20724.084919691086  \n",
       "99   66.46315999999999   20934.76652431488  \n",
       "100  65.27795499999999  21147.119249105453  \n",
       "101          65.703485   21360.61155438423  \n",
       "102          65.353555   21573.04679465294  \n",
       "\n",
       "[103 rows x 12 columns]"
      ]
     },
     "execution_count": 7,
     "metadata": {},
     "output_type": "execute_result"
    }
   ],
   "source": [
    "df"
   ]
  },
  {
   "cell_type": "code",
   "execution_count": null,
   "metadata": {},
   "outputs": [],
   "source": []
  },
  {
   "cell_type": "code",
   "execution_count": 8,
   "metadata": {},
   "outputs": [],
   "source": [
    "# real_s = df.loc[df['input'] == str(input_sizes['s'][0])]\n",
    "# real_m = df.loc[df['input'] == str(input_sizes['m'][0])]\n",
    "real_l = df.loc[df['input'] == str(input_sizes['l'][0])]\n",
    "# real_sm = df.loc[df['input'] == str(input_sizes['sm'][0])]\n",
    "# real_ml = df.loc[df['input'] == str(input_sizes['ml'][0])]\n",
    "# real_xl = df.loc[df['input'] == str(input_sizes['xl'][0])]"
   ]
  },
  {
   "cell_type": "code",
   "execution_count": null,
   "metadata": {},
   "outputs": [],
   "source": []
  },
  {
   "cell_type": "code",
   "execution_count": 9,
   "metadata": {},
   "outputs": [],
   "source": [
    "# real_s.to_csv('./results_gptune_s_rsbench_sla.csv',index=False)\n",
    "# real_m.to_csv('./results_gptune_m_rsbench_sla.csv',index=False)\n",
    "real_l.to_csv('./results_gptune_l_rsbench_sla.csv',index=False)\n",
    "# real_sm.to_csv('./results_gptune_sm_rsbench_dtla.csv',index=False)\n",
    "# real_ml.to_csv('./results_gptune_ml_rsbench_dtla.csv',index=False)\n",
    "# real_xl.to_csv('./results_gptune_xl_rsbench_dtla.csv',index=False)"
   ]
  },
  {
   "cell_type": "code",
   "execution_count": null,
   "metadata": {},
   "outputs": [],
   "source": []
  },
  {
   "cell_type": "code",
   "execution_count": null,
   "metadata": {},
   "outputs": [],
   "source": []
  },
  {
   "cell_type": "code",
   "execution_count": null,
   "metadata": {},
   "outputs": [],
   "source": []
  },
  {
   "cell_type": "code",
   "execution_count": null,
   "metadata": {},
   "outputs": [],
   "source": []
  },
  {
   "cell_type": "code",
   "execution_count": null,
   "metadata": {},
   "outputs": [],
   "source": []
  },
  {
   "cell_type": "code",
   "execution_count": null,
   "metadata": {},
   "outputs": [],
   "source": []
  },
  {
   "cell_type": "code",
   "execution_count": null,
   "metadata": {},
   "outputs": [],
   "source": []
  },
  {
   "cell_type": "code",
   "execution_count": null,
   "metadata": {},
   "outputs": [],
   "source": []
  },
  {
   "cell_type": "code",
   "execution_count": null,
   "metadata": {},
   "outputs": [],
   "source": [
    "real_s = df.loc[df['input'] == str(input_sizes['s'][0])]\n",
    "real_m = df.loc[df['input'] == str(input_sizes['m'][0])]\n",
    "real_l = df.loc[df['input'] == str(input_sizes['l'][0])]\n",
    "real_sm = df.loc[df['input'] == str(input_sizes['sm'][0])]\n",
    "real_ml = df.loc[df['input'] == str(input_sizes['ml'][0])]\n",
    "real_xl = df.loc[df['input'] == str(input_sizes['xl'][0])]"
   ]
  },
  {
   "cell_type": "code",
   "execution_count": null,
   "metadata": {},
   "outputs": [],
   "source": [
    "# real_s.to_csv('./results_gptune_s_xsbench_mla.csv',index=False)\n",
    "# real_m.to_csv('./results_gptune_m_xsbench_mla.csv',index=False)\n",
    "# real_l.to_csv('./results_gptune_l_xsbench_mla.csv',index=False)\n",
    "# real_sm.to_csv('./results_gptune_sm_xsbench_mla_tla1.csv',index=False)\n",
    "# real_ml.to_csv('./results_gptune_ml_xsbench_mla_tla1.csv',index=False)\n",
    "# real_xl.to_csv('./results_gptune_xl_xsbench_mla_tla1.csv',index=False)"
   ]
  },
  {
   "cell_type": "code",
   "execution_count": null,
   "metadata": {},
   "outputs": [],
   "source": [
    "speedup_s = o3p_time['s'][0] / real_s['objective'].astype(float)\n",
    "speedup_m = o3p_time['m'][0] / real_m['objective'].astype(float)\n",
    "speedup_l = o3p_time['l'][0] / real_l['objective'].astype(float)\n",
    "speedup_s =  real_s['objective'].astype(float)\n",
    "speedup_m =  real_m['objective'].astype(float)\n",
    "speedup_l =  real_l['objective'].astype(float)"
   ]
  },
  {
   "cell_type": "code",
   "execution_count": null,
   "metadata": {
    "scrolled": true
   },
   "outputs": [],
   "source": [
    "import sys, os, time, glob\n",
    "import numpy as np\n",
    "from datetime import datetime\n",
    "from statistics import median\n",
    "import matplotlib.pyplot as plt\n",
    "import statsmodels.api as sm\n",
    "import csv\n",
    "from csv import writer\n",
    "from csv import reader\n",
    "import pandas as pd \n"
   ]
  },
  {
   "cell_type": "code",
   "execution_count": null,
   "metadata": {},
   "outputs": [],
   "source": [
    "fig, axs = plt.subplots(1,3, figsize=(15, 3), sharex=True, sharey=False)\n",
    "for ax, d_size, speedup in zip(axs.flat,['s','m','l'],[speedup_s,speedup_m,speedup_l]):\n",
    "# for cc in gathered:\n",
    "#     ax.scatter(*np.random.normal(size=(2,200)))\n",
    "#     ax.set_title(kernel+d_size,fontsize=14)\n",
    "#     dict_s = cc\n",
    "#     #     dict_s['-O3 Polly'] = [0] *1000\n",
    "#     for k, v in dict_s.items():\n",
    "#         if k == 'bo':\n",
    "#             k = 'BO'\n",
    "#             color = 'blue'\n",
    "#         if k == 'rs':\n",
    "#             k = 'RS'\n",
    "#             color = 'orange'\n",
    "    color = 'blue'\n",
    "    v = speedup.values\n",
    "    kernel = 'xsbench_'\n",
    "    k = 'GPTune'# +d_size\n",
    "    ax.plot(range(1, len(v) + 1), v, '.-', label=k,linewidth=0.5,markersize=3,color=color)\n",
    "        # NOTE: changed `range(1, 4)` to mach actual values count\n",
    "    ax.legend(fontsize=13)#,loc='center right')  # To draw legend\n",
    "    #     plt.title(k_name[:-1],fontsize=14)\n",
    "    # plt.xlim(0,max_exp+10)\n",
    "    #     plt.ylim(bottom=0.5)\n",
    "    ax.set_ylabel('Execution time (sec.)', fontsize=12)\n",
    "    ax.set_xlabel('No. of evaluations', fontsize=12)\n",
    "    ax.set_title(kernel+d_size,fontsize=12)\n",
    "    ax.tick_params(axis=\"x\", labelsize=12) \n",
    "    ax.tick_params(axis=\"y\", labelsize=12) \n",
    "#     ax.set_xticklabels(fontsize=14)\n",
    "#     ax.set_yticklabels(fontsize=14)\n",
    "    ax.grid()\n",
    "#     plt.show()"
   ]
  },
  {
   "cell_type": "code",
   "execution_count": null,
   "metadata": {},
   "outputs": [],
   "source": [
    "speedup_sm.values"
   ]
  },
  {
   "cell_type": "code",
   "execution_count": null,
   "metadata": {},
   "outputs": [],
   "source": []
  },
  {
   "cell_type": "code",
   "execution_count": null,
   "metadata": {
    "scrolled": true
   },
   "outputs": [],
   "source": []
  },
  {
   "cell_type": "code",
   "execution_count": null,
   "metadata": {},
   "outputs": [],
   "source": [
    "speedup_s_gp = o3p_time['s'][0] / real_s_gp['objective'].astype(float)\n",
    "speedup_m_gp = o3p_time['m'][0] / real_m_gp['objective'].astype(float)\n",
    "speedup_l_gp = o3p_time['l'][0] / real_l_gp['objective'].astype(float)"
   ]
  },
  {
   "cell_type": "code",
   "execution_count": null,
   "metadata": {},
   "outputs": [],
   "source": [
    "speedup_sm = o3p_time['sm'][0] / real_sm['objective'].astype(float)\n",
    "speedup_ml = o3p_time['ml'][0] / real_ml['objective'].astype(float)\n",
    "speedup_xl = o3p_time['xl'][0] / real_xl['objective'].astype(float)"
   ]
  },
  {
   "cell_type": "code",
   "execution_count": null,
   "metadata": {},
   "outputs": [],
   "source": []
  },
  {
   "cell_type": "code",
   "execution_count": null,
   "metadata": {},
   "outputs": [],
   "source": [
    "from prettytable import PrettyTable \n",
    "  \n",
    "# Specify the Column Names while initializing the Table \n",
    "myTable = PrettyTable([\"Methond\", \"SM\", \"ML\", \"XL\"]) \n",
    "\n",
    "speedup_sm_gc = 7.798177535012554\n",
    "speedup_ml_gc = 5.269287797042237\n",
    "speedup_xl_gc = 7.815239046415214\n",
    "\n",
    "# Add rows \n",
    "myTable.add_row([\"GPTune TLA1\",  str(speedup_sm.values[0])[:5], str(speedup_ml.values[0])[:5],str(speedup_xl.values[0])[:5]]) \n",
    "myTable.add_row([\"GC\", str(speedup_sm_gc)[:5], str(speedup_ml_gc)[:5],str(speedup_xl_gc)[:5]]) \n",
    "\n",
    "  \n",
    "print(myTable)"
   ]
  },
  {
   "cell_type": "code",
   "execution_count": null,
   "metadata": {},
   "outputs": [],
   "source": []
  },
  {
   "cell_type": "code",
   "execution_count": null,
   "metadata": {},
   "outputs": [],
   "source": []
  },
  {
   "cell_type": "code",
   "execution_count": null,
   "metadata": {},
   "outputs": [],
   "source": []
  },
  {
   "cell_type": "code",
   "execution_count": null,
   "metadata": {},
   "outputs": [],
   "source": []
  },
  {
   "cell_type": "code",
   "execution_count": null,
   "metadata": {},
   "outputs": [],
   "source": []
  },
  {
   "cell_type": "code",
   "execution_count": null,
   "metadata": {},
   "outputs": [],
   "source": [
    "fig, axs = plt.subplots(1,3, figsize=(15, 3), sharex=True, sharey=True)\n",
    "for ax, cc, d_size, cutoff in zip(axs.flat,gathered,d_sizes,cutoffs):\n",
    "# for cc in gathered:\n",
    "#     ax.scatter(*np.random.normal(size=(2,200)))\n",
    "#     ax.set_title(kernel+d_size,fontsize=14)\n",
    "    dict_s = cc\n",
    "    #     dict_s['-O3 Polly'] = [0] *1000\n",
    "    for k, v in dict_s.items():\n",
    "        if k == 'bo':\n",
    "            k = 'BO'\n",
    "            color = 'blue'\n",
    "        if k == 'rs':\n",
    "            k = 'RS'\n",
    "            color = 'orange'\n",
    "        ax.plot(range(1, len(v) + 1), v, '.-', label=k,linewidth=1.5,markersize=1.5,color=color)\n",
    "        # NOTE: changed `range(1, 4)` to mach actual values count\n",
    "    ax.legend(fontsize=13)#,loc='center right')  # To draw legend\n",
    "    #     plt.title(k_name[:-1],fontsize=14)\n",
    "    # plt.xlim(0,max_exp+10)\n",
    "    #     plt.ylim(bottom=0.5)\n",
    "    ax.set_ylabel('No. of config speedup > top '+str(alpha*100)+'%''='+str(cutoff)[:4], fontsize=12)\n",
    "    ax.set_xlabel('No. of evaluations', fontsize=12)\n",
    "    ax.set_title(kernel+d_size,fontsize=12)\n",
    "    ax.tick_params(axis=\"x\", labelsize=12) \n",
    "    ax.tick_params(axis=\"y\", labelsize=12) \n",
    "#     ax.set_xticklabels(fontsize=14)\n",
    "#     ax.set_yticklabels(fontsize=14)\n",
    "    ax.grid()\n",
    "#     plt.show()"
   ]
  },
  {
   "cell_type": "code",
   "execution_count": null,
   "metadata": {},
   "outputs": [],
   "source": [
    "import numpy as np"
   ]
  },
  {
   "cell_type": "code",
   "execution_count": null,
   "metadata": {},
   "outputs": [],
   "source": []
  },
  {
   "cell_type": "code",
   "execution_count": null,
   "metadata": {},
   "outputs": [],
   "source": [
    "import random"
   ]
  },
  {
   "cell_type": "code",
   "execution_count": null,
   "metadata": {},
   "outputs": [],
   "source": [
    "random.uniform(0, 1)"
   ]
  },
  {
   "cell_type": "code",
   "execution_count": null,
   "metadata": {},
   "outputs": [],
   "source": [
    "results =[random.uniform(0, 1), random.uniform(0, 1), random.uniform(0, 1)]"
   ]
  },
  {
   "cell_type": "code",
   "execution_count": null,
   "metadata": {},
   "outputs": [],
   "source": [
    "float(np.mean(results[1:]))"
   ]
  },
  {
   "cell_type": "code",
   "execution_count": null,
   "metadata": {},
   "outputs": [],
   "source": []
  },
  {
   "cell_type": "code",
   "execution_count": null,
   "metadata": {},
   "outputs": [],
   "source": []
  }
 ],
 "metadata": {
  "kernelspec": {
   "display_name": "ytune",
   "language": "python",
   "name": "ytune"
  },
  "language_info": {
   "codemirror_mode": {
    "name": "ipython",
    "version": 3
   },
   "file_extension": ".py",
   "mimetype": "text/x-python",
   "name": "python",
   "nbconvert_exporter": "python",
   "pygments_lexer": "ipython3",
   "version": "3.7.11"
  }
 },
 "nbformat": 4,
 "nbformat_minor": 4
}
