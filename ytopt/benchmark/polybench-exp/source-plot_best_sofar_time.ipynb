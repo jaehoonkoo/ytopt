{
 "cells": [
  {
   "cell_type": "code",
   "execution_count": 1,
   "metadata": {},
   "outputs": [],
   "source": [
    "import sys, os, time, glob\n",
    "import numpy as np\n",
    "from datetime import datetime\n",
    "from statistics import median\n",
    "import matplotlib.pyplot as plt\n",
    "# import statsmodels.api as sm\n",
    "import csv\n",
    "from csv import writer\n",
    "from csv import reader\n",
    "import pandas as pd "
   ]
  },
  {
   "cell_type": "code",
   "execution_count": 26,
   "metadata": {},
   "outputs": [
    {
     "data": {
      "text/plain": [
       "{'s': 0.000855,\n",
       " 'sm': 0.0052075,\n",
       " 'm': 0.017965,\n",
       " 'ml': 0.4659055,\n",
       " 'l': 2.801542,\n",
       " 'xl': 30.3176415}"
      ]
     },
     "execution_count": 26,
     "metadata": {},
     "output_type": "execute_result"
    }
   ],
   "source": [
    "\n",
    "dir_name = '/lcrc/project/EE-ECP/jkoo/code/sdv/Benchmarks/'\n",
    "kernel_dir = 'covariance_void'\n",
    "kernel = 'covariance'\n",
    "kernel_dir = 'heat-3d_void'\n",
    "kernel = 'heat-3d'\n",
    "\n",
    "d_sizes = ['s','sm','m','ml','l','xl']\n",
    "o3p = {}\n",
    "for s in d_sizes: \n",
    "    time = pd.read_csv(f'{dir_name}{kernel}_exp/{kernel_dir}/results_{s}_{kernel}_void.csv')['objective']\n",
    "    o3p[s] = float(time)\n",
    "\n",
    "o3p"
   ]
  },
  {
   "cell_type": "code",
   "execution_count": null,
   "metadata": {},
   "outputs": [],
   "source": []
  },
  {
   "cell_type": "code",
   "execution_count": null,
   "metadata": {},
   "outputs": [],
   "source": []
  },
  {
   "cell_type": "code",
   "execution_count": 27,
   "metadata": {
    "scrolled": true
   },
   "outputs": [
    {
     "name": "stdout",
     "output_type": "stream",
     "text": [
      "cutoff 3.208255159474671\n",
      "cutoff 3.089955280357757\n",
      "cutoff 1.813082799658163\n"
     ]
    }
   ],
   "source": [
    "#### RF rerun \n",
    "dir_name = '/lcrc/project/EE-ECP/jkoo/code/ytopt/ytopt/benchmark/polybench-exp'\n",
    "dir_name_gptune = '/lcrc/project/EE-ECP/jkoo/code/gptune/examples'\n",
    "N_infer = 200 # len(200)\n",
    "n = N_infer\n",
    "# plot something\n",
    "\n",
    "# kernel_dir = 'covariance'\n",
    "# kernel = 'covariance'\n",
    "d_sizes = ['s','m','l']\n",
    "gathered = []\n",
    "cutoffs = []\n",
    "\n",
    "gathered = [] \n",
    "cutoffs = [] \n",
    "tag1 = ''#_1.96_gp'# '_1.96_lcb'# \n",
    "tag2 = '' # '_19.6_lcb'#_1.96_gp_n30'# '_11.0_lcb' # \n",
    "tag3 = ''\n",
    "tag4 = ''#_1.96_gp'# '_1.96_lcb'# \n",
    "tag5 = ''#_1.96_gp_n30'# '_11.0_lcb' # \n",
    "\n",
    "for d_size, o3 in zip(d_sizes, o3p):   \n",
    "    \n",
    "    alpha = 0.1\n",
    "    t = 0\n",
    "    evals = []    \n",
    "    \n",
    "    ### BO\n",
    "    file_n = f'{dir_name}/{kernel}/results_rf_{d_size}_{kernel}{tag1}.csv'\n",
    "    evals_bo = o3p[d_size] / np.array(pd.read_csv(file_n)['objective']) \n",
    "    T_bo  = np.array(pd.read_csv(file_n)['elapsed_sec'])\n",
    "    evals.extend(evals_bo)\n",
    "    counter_bo = 0 \n",
    "    plot_bo = [0]\n",
    "    best_bo = 0.\n",
    "    idx_bo = 0\n",
    "    t_bo = T_bo[idx_bo] \n",
    "\n",
    "    ## RS \n",
    "    file_n = f'{dir_name}/{kernel}/results_rs_{d_size}_{kernel}{tag1}.csv'\n",
    "    evals_rs = o3p[d_size] / np.array(pd.read_csv(file_n)['objective']) \n",
    "    T_rs  = np.array(pd.read_csv(file_n)['elapsed_sec'])\n",
    "    evals.extend(evals_rs)\n",
    "    counter_rs = 0\n",
    "    plot_rs = [0]\n",
    "    best_rs = 0. \n",
    "    idx_rs = 0\n",
    "    t_rs = T_rs[idx_rs]\n",
    "        \n",
    "    ## GPTUNE SLA\n",
    "    file_n = f'{dir_name_gptune}/{kernel}_exp/{kernel}_gptune_dtla/TLA_experiments/SLA-GPTune-{d_size}-200/results.csv'\n",
    "    evals_dtla = o3p[d_size] / np.array(pd.read_csv(file_n)['objective']) \n",
    "    T_dtla  = np.array(pd.read_csv(file_n)['elapsed_sec'])    \n",
    "    evals.extend(evals_dtla)\n",
    "    counter_dtla = 0\n",
    "    plot_dtla = [0]\n",
    "    best_dtla = 0.\n",
    "    idx_dtla = 0\n",
    "    t_dtla = T_dtla[idx_dtla]\n",
    "    \n",
    "    ## GPTUNE MLA\n",
    "#     evals_sdv = o3 / np.array(pd.read_csv('./'+kernel_dir+'/results_rf_' +d_size + '_'+kernel+tag4+'.csv')['objective'])\n",
    "#     T_sdv = np.array(pd.read_csv('./'+kernel_dir+'/results_rf_' +d_size + '_'+kernel+tag4+'.csv')['elapsed_sec'])\n",
    "#     evals.extend(evals_sdv)\n",
    "#     counter_sdv = 0 \n",
    "#     plot_sdv = [0] \n",
    "#     best_sdv = 0.\n",
    "#     idx_sdv = 0         \n",
    "#     t_sdv = T_sdv[idx_sdv]\n",
    "    \n",
    "#     ## SDV ITR\n",
    "#     evals_sdv_itr = o3 / np.array(pd.read_csv('./'+kernel_dir+'/results_rf_' +d_size + '_'+kernel+tag5+'.csv')['objective'])\n",
    "#     T_sdv_itr = np.array(pd.read_csv('./'+kernel_dir+'/results_rf_' +d_size + '_'+kernel+tag5+'.csv')['elapsed_sec'])\n",
    "#     evals.extend(evals_sdv_itr)\n",
    "#     counter_sdv_itr = 0 \n",
    "#     plot_sdv_itr = [0] \n",
    "#     best_sdv_itr = 0. \n",
    "#     idx_sdv_itr = 0\n",
    "#     t_sdv_itr = T_sdv_itr[idx_sdv_itr]\n",
    "     \n",
    "    cutoff = sorted(evals, reverse=True)[int(len(evals)*alpha)]#[0]\n",
    "    print ('cutoff', cutoff)    \n",
    "        \n",
    "#     T_max = int(max(T_bo.max(), T_rs.max(), T_dtla.max(), T_sdv.max(), T_sdv_itr.max()))     \n",
    "    T_max = int(max(T_bo.max(), T_rs.max(), T_dtla.max())) \n",
    "    while t < T_max:  \n",
    "        # bo\n",
    "        if t_bo < t and idx_bo <= 199:\n",
    "            bo_tmp = float(evals_bo[idx_bo])   \n",
    "            if bo_tmp > best_bo:\n",
    "                best_bo =  bo_tmp\n",
    "            plot_bo.append(best_bo)\n",
    "            idx_bo += 1 \n",
    "            if idx_bo <= 199:\n",
    "                t_bo = T_bo[idx_bo]\n",
    "        elif idx_bo == 200:\n",
    "            pass\n",
    "        else:\n",
    "            plot_bo.append(best_bo)\n",
    "            \n",
    "        # rs  \n",
    "        if t_rs < t and idx_rs <= 199: \n",
    "            rs_tmp = float(evals_rs[idx_rs])    \n",
    "            if rs_tmp > best_rs:\n",
    "                best_rs =  rs_tmp \n",
    "            plot_rs.append(best_rs)\n",
    "            idx_rs += 1 \n",
    "            if idx_rs <= 199:\n",
    "                t_rs = T_rs[idx_rs]\n",
    "        elif idx_rs == 200:\n",
    "            pass\n",
    "        else:\n",
    "            plot_rs.append(best_rs)\n",
    "\n",
    "          # gptune \n",
    "        if t_dtla < t and idx_dtla <= 199:\n",
    "            dtla_tmp_itr = float(evals_dtla[idx_dtla])\n",
    "            if dtla_tmp_itr > best_dtla:\n",
    "                best_dtla =  dtla_tmp_itr \n",
    "            plot_dtla.append(best_dtla)\n",
    "            idx_dtla += 1 \n",
    "            if idx_dtla <= 199:\n",
    "                t_dtla = T_dtla[idx_dtla]    \n",
    "        elif idx_dtla == 200:\n",
    "            pass\n",
    "        else:\n",
    "            plot_dtla.append(best_dtla)              \n",
    "            \n",
    "#         # sdv \n",
    "#         if t_sdv < t and idx_sdv <= 199:\n",
    "#             sdv_tmp = float(evals_sdv[idx_sdv])\n",
    "#             if sdv_tmp > best_sdv:\n",
    "#                 best_sdv =  sdv_tmp \n",
    "#             plot_sdv.append(best_sdv)\n",
    "#             idx_sdv += 1 \n",
    "#             if idx_sdv <= 199:\n",
    "#                 t_sdv = T_sdv[idx_sdv]    \n",
    "#         elif idx_sdv == 200:\n",
    "#             pass\n",
    "#         else:\n",
    "#             plot_sdv.append(best_sdv)          \n",
    "\n",
    "#          # sdv itr \n",
    "#         if t_sdv_itr < t and idx_sdv_itr <= 199:\n",
    "#             sdv_tmp_itr = float(evals_sdv_itr[idx_sdv_itr])\n",
    "#             if sdv_tmp_itr > best_sdv_itr:\n",
    "#                 best_sdv_itr =  sdv_tmp_itr \n",
    "#             plot_sdv_itr.append(best_sdv_itr)\n",
    "#             idx_sdv_itr += 1 \n",
    "#             if idx_sdv_itr <= 199:\n",
    "#                 t_sdv_itr = T_sdv_itr[idx_sdv_itr]    \n",
    "#         elif idx_sdv_itr == 200:\n",
    "#             pass\n",
    "#         else:\n",
    "#             plot_sdv_itr.append(best_sdv_itr)                   \n",
    "        t += 1     \n",
    "            \n",
    "    cc = {}\n",
    "    cc['bo'] = plot_bo\n",
    "    cc['rs'] = plot_rs\n",
    "    cc['dtla'] = plot_dtla\n",
    "    \n",
    "#     cc['kde'] = plot_kde\n",
    "#     cc['sdv'] = plot_sdv \n",
    "#     cc['sdv_30'] = plot_sdv_30\n",
    "#     cc['sdv_50'] = plot_sdv_50\n",
    "#     cc['sdv_itr'] = plot_sdv_itr\n",
    "\n",
    "    gathered.append(cc)\n",
    "#     cutoffs.append(cutoff)"
   ]
  },
  {
   "cell_type": "code",
   "execution_count": 28,
   "metadata": {},
   "outputs": [
    {
     "data": {
      "image/png": "[encoded data removed]",
      "text/plain": [
       "<Figure size 1080x216 with 3 Axes>"
      ]
     },
     "metadata": {
      "needs_background": "light"
     },
     "output_type": "display_data"
    }
   ],
   "source": [
    "fig, axs = plt.subplots(1,3, figsize=(15, 3), sharex=False, sharey=True)\n",
    "BEST = []\n",
    "for ax, cc, d_size in zip(axs.flat,gathered,d_sizes):\n",
    "# for cc in gathered:\n",
    "#     ax.scatter(*np.random.normal(size=(2,200)))\n",
    "#     ax.set_title(kernel+d_size,fontsize=14)\n",
    "#     print (d_size)\n",
    "    dict_s = cc\n",
    "    #     dict_s['-O3 Polly'] = [0] *1000\n",
    "    for k, v in dict_s.items():\n",
    "        if k == 'bo':\n",
    "            k = 'RF ' + tag1 \n",
    "#             k = 'RF lcb 1.96 n1'\n",
    "            color = 'blue'\n",
    "        if k == 'rs':\n",
    "            k = 'RS ' + tag2 \n",
    "#             k = 'RF lcb 11.0 n1'\n",
    "            color = 'orange'  \n",
    "#         if d_size == 'l':\n",
    "#             if k == 'RS ' + tag2:\n",
    "#                 k = '' \n",
    "#     #             k = 'RF lcb 11.0 n1'\n",
    "#                 color = 'white'  \n",
    "# #                 print ('xxxx')\n",
    "        if k == 'dtla':\n",
    "            k = 'GPTune_SLA'\n",
    "            color = 'purple'    \n",
    "#         if k == 'sdv':\n",
    "#             k = 'RF ' + tag3\n",
    "#             color = 'brown'\n",
    "#         if k == 'sdv_30':\n",
    "#             k = 'SDV_30'\n",
    "#             color = 'red'\n",
    "#         if k == 'sdv_50':\n",
    "#             k = 'SDV_50'\n",
    "#             color = 'purple'\n",
    "#         if k == 'sdv_itr':\n",
    "#             k = 'RF ' + tag4\n",
    "#             color = 'green'\n",
    "        BEST.append(v[-1])\n",
    "        ax.plot(range(1, len(v) + 1), v, '.-', label=k,linewidth=1.5,markersize=1.5,color=color)\n",
    "        # NOTE: changed `range(1, 4)` to mach actual values count\n",
    "    ax.legend(fontsize=13)#,loc='center right')  # To draw legend\n",
    "    #     plt.title(k_name[:-1],fontsize=14)\n",
    "    # plt.xlim(0,max_exp+10)\n",
    "    #     plt.ylim(bottom=0.5)\n",
    "    ax.set_ylabel('Best speedup so far', fontsize=12)\n",
    "    ax.set_xlabel('Elapsed time (Seconds)', fontsize=12)\n",
    "    ax.set_title(kernel_dir+'_'+d_size,fontsize=12)\n",
    "    ax.tick_params(axis=\"x\", labelsize=12) \n",
    "    ax.tick_params(axis=\"y\", labelsize=12) \n",
    "#     ax.set_xticklabels(fontsize=14)\n",
    "#     ax.set_yticklabels(fontsize=14)\n",
    "    ax.grid()\n",
    "#     plt.show()"
   ]
  },
  {
   "cell_type": "code",
   "execution_count": null,
   "metadata": {},
   "outputs": [],
   "source": []
  },
  {
   "cell_type": "code",
   "execution_count": 21,
   "metadata": {},
   "outputs": [
    {
     "data": {
      "image/png": "[encoded data removed]",
      "text/plain": [
       "<Figure size 864x576 with 1 Axes>"
      ]
     },
     "metadata": {
      "needs_background": "light"
     },
     "output_type": "display_data"
    }
   ],
   "source": [
    "import numpy as np\n",
    "import matplotlib.pyplot as plt\n",
    "\n",
    "# set width of bar\n",
    "barWidth = 0.25\n",
    "fig = plt.subplots(figsize =(12, 8))\n",
    "\n",
    "# set height of bar\n",
    "###### S   M   L\n",
    "bb  = BEST\n",
    "RF  = [bb[0], bb[3],bb[6]]#, 0, 0]\n",
    "RS  = [bb[1], bb[4], bb[7]]# bb[7]]#, 0, 0]\n",
    "GPT = [bb[2], bb[5], bb[8]]#, 0, 0]\n",
    "\n",
    "# Set position of bar on X axis\n",
    "br1 = np.arange(len(RF))\n",
    "br2 = [x + barWidth for x in br1]\n",
    "br3 = [x + barWidth for x in br2]\n",
    "\n",
    "# Make the plot\n",
    "plt.bar(br1, RF, color ='blue', width = barWidth,\n",
    "\t\tedgecolor ='grey', label ='RF')\n",
    "plt.bar(br2, RS, color ='orange', width = barWidth,\n",
    "\t\tedgecolor ='grey', label ='RS')\n",
    "plt.bar(br3, GPT, color ='purple', width = barWidth,\n",
    "\t\tedgecolor ='grey', label ='GPTune SLA')\n",
    "\n",
    "# Adding Xticks\n",
    "plt.xlabel('Input size', fontweight ='bold', fontsize = 12)\n",
    "plt.ylabel('Best speedup', fontweight ='bold', fontsize = 12)\n",
    "plt.xticks([r + barWidth for r in range(len(RF))],\n",
    "\t\t['Small', 'Medium', 'Large'])#, '', ''])\n",
    "plt.title('Source sizes: '+kernel_dir, fontweight ='bold', fontsize = 15)\n",
    "plt.legend()\n",
    "plt.show()\n"
   ]
  },
  {
   "cell_type": "code",
   "execution_count": null,
   "metadata": {},
   "outputs": [],
   "source": []
  },
  {
   "cell_type": "code",
   "execution_count": null,
   "metadata": {},
   "outputs": [],
   "source": []
  },
  {
   "cell_type": "code",
   "execution_count": null,
   "metadata": {},
   "outputs": [],
   "source": []
  },
  {
   "cell_type": "code",
   "execution_count": null,
   "metadata": {},
   "outputs": [],
   "source": []
  },
  {
   "cell_type": "code",
   "execution_count": null,
   "metadata": {},
   "outputs": [],
   "source": []
  },
  {
   "cell_type": "code",
   "execution_count": null,
   "metadata": {},
   "outputs": [],
   "source": []
  },
  {
   "cell_type": "code",
   "execution_count": null,
   "metadata": {},
   "outputs": [],
   "source": []
  },
  {
   "cell_type": "code",
   "execution_count": null,
   "metadata": {},
   "outputs": [],
   "source": []
  },
  {
   "cell_type": "code",
   "execution_count": null,
   "metadata": {},
   "outputs": [],
   "source": []
  },
  {
   "cell_type": "code",
   "execution_count": 22,
   "metadata": {},
   "outputs": [],
   "source": [
    "import sys, os, time, glob\n",
    "import numpy as np\n",
    "from datetime import datetime\n",
    "from statistics import median\n",
    "import matplotlib.pyplot as plt\n",
    "import statsmodels.api as sm\n",
    "import csv\n",
    "from csv import writer\n",
    "from csv import reader\n",
    "import pandas as pd "
   ]
  },
  {
   "cell_type": "code",
   "execution_count": 24,
   "metadata": {
    "scrolled": true
   },
   "outputs": [
    {
     "ename": "NameError",
     "evalue": "name 'T_sdv' is not defined",
     "output_type": "error",
     "traceback": [
      "\u001b[0;31m---------------------------------------------------------------------------\u001b[0m",
      "\u001b[0;31mNameError\u001b[0m                                 Traceback (most recent call last)",
      "\u001b[0;32m<ipython-input-24-0beb8b4ccb75>\u001b[0m in \u001b[0;36m<module>\u001b[0;34m\u001b[0m\n\u001b[1;32m      9\u001b[0m \u001b[0;31m#     T_kde = np.array(pd.read_csv('./xsbench/results_kde_' +d_size + '_xsbench.csv')[what])\u001b[0m\u001b[0;34m\u001b[0m\u001b[0;34m\u001b[0m\u001b[0;34m\u001b[0m\u001b[0m\n\u001b[1;32m     10\u001b[0m \u001b[0;31m#     T_sdv = np.array(pd.read_csv('./xsbench/results_sdv_' +d_size + '_xsbench.csv')[what])\u001b[0m\u001b[0;34m\u001b[0m\u001b[0;34m\u001b[0m\u001b[0;34m\u001b[0m\u001b[0m\n\u001b[0;32m---> 11\u001b[0;31m     \u001b[0mplt\u001b[0m\u001b[0;34m.\u001b[0m\u001b[0mplot\u001b[0m\u001b[0;34m(\u001b[0m\u001b[0mT_sdv\u001b[0m\u001b[0;34m)\u001b[0m\u001b[0;34m\u001b[0m\u001b[0;34m\u001b[0m\u001b[0m\n\u001b[0m\u001b[1;32m     12\u001b[0m     \u001b[0mm\u001b[0m \u001b[0;34m=\u001b[0m \u001b[0mT_sdv\u001b[0m\u001b[0;34m.\u001b[0m\u001b[0mmean\u001b[0m\u001b[0;34m(\u001b[0m\u001b[0;34m)\u001b[0m\u001b[0;34m\u001b[0m\u001b[0;34m\u001b[0m\u001b[0m\n\u001b[1;32m     13\u001b[0m     \u001b[0ms\u001b[0m \u001b[0;34m=\u001b[0m \u001b[0mT_sdv\u001b[0m\u001b[0;34m.\u001b[0m\u001b[0mstd\u001b[0m\u001b[0;34m(\u001b[0m\u001b[0;34m)\u001b[0m\u001b[0;34m\u001b[0m\u001b[0;34m\u001b[0m\u001b[0m\n",
      "\u001b[0;31mNameError\u001b[0m: name 'T_sdv' is not defined"
     ]
    }
   ],
   "source": [
    "d_sizes = ['sm']#,'ml','xl']\n",
    "idx_start = [24,33,42]\n",
    "gathered = [] \n",
    "cutoffs = [] \n",
    "what = 'exe_time'\n",
    "for d_size, i_start in zip(d_sizes,idx_start):\n",
    "#     T_bo  = np.array(pd.read_csv('./xsbench/results_rf_' +d_size + '_xsbench.csv')[what])\n",
    "#     T_rs  = np.array(pd.read_csv('./xsbench/results_rs_' +d_size + '_xsbench.csv')[what])\n",
    "#     T_kde = np.array(pd.read_csv('./xsbench/results_kde_' +d_size + '_xsbench.csv')[what])\n",
    "#     T_sdv = np.array(pd.read_csv('./xsbench/results_sdv_' +d_size + '_xsbench.csv')[what])\n",
    "    plt.plot(T_sdv)\n",
    "    m = T_sdv.mean()\n",
    "    s = T_sdv.std()\n",
    "#     plt.ylim((T_sdv.min(),m+s))\n",
    "    ss = 0.0005\n",
    "    plt.ylim((T_sdv.min()-ss,m+ss))\n",
    "    plt.title()\n",
    "    plt.xlabel()\n",
    "    plt.ylabel('Execution time')\n",
    "    plt.show()"
   ]
  },
  {
   "cell_type": "code",
   "execution_count": null,
   "metadata": {},
   "outputs": [],
   "source": []
  },
  {
   "cell_type": "code",
   "execution_count": null,
   "metadata": {},
   "outputs": [],
   "source": []
  },
  {
   "cell_type": "code",
   "execution_count": null,
   "metadata": {},
   "outputs": [],
   "source": []
  },
  {
   "cell_type": "code",
   "execution_count": null,
   "metadata": {},
   "outputs": [],
   "source": []
  },
  {
   "cell_type": "code",
   "execution_count": null,
   "metadata": {},
   "outputs": [],
   "source": []
  },
  {
   "cell_type": "code",
   "execution_count": null,
   "metadata": {},
   "outputs": [],
   "source": []
  },
  {
   "cell_type": "code",
   "execution_count": null,
   "metadata": {},
   "outputs": [],
   "source": []
  },
  {
   "cell_type": "code",
   "execution_count": null,
   "metadata": {},
   "outputs": [],
   "source": []
  },
  {
   "cell_type": "code",
   "execution_count": null,
   "metadata": {},
   "outputs": [],
   "source": [
    "class Solution(object):\n",
    "    def mySqrt(self, x):\n",
    "        \"\"\"\n",
    "        :type x: int\n",
    "        :rtype: int\n",
    "        \"\"\"\n",
    "#         if x == 0:\n",
    "#             return 0\n",
    "#         if x <= 3:\n",
    "#             return 1 \n",
    "        \n",
    "#         stop = False \n",
    "#         count = 2 \n",
    "#         while stop == False:\n",
    "            \n",
    "#             compare = count * count\n",
    "#             if x == compare:\n",
    "#                 return count\n",
    "#             if x < compare:\n",
    "#                 return count -1\n",
    "            \n",
    "#             count += 1 \n",
    "        \n",
    "        ### binar search \n",
    "        l, r = 0, x\n",
    "        while l <= r:\n",
    "            mid = l + (r-l)//2\n",
    "            if mid * mid <= x < (mid+1)*(mid+1):\n",
    "                return mid\n",
    "            elif x < mid * mid:\n",
    "                r = mid - 1\n",
    "            else:\n",
    "                l = mid + 1  "
   ]
  },
  {
   "cell_type": "code",
   "execution_count": null,
   "metadata": {},
   "outputs": [],
   "source": [
    "ss = Solution"
   ]
  },
  {
   "cell_type": "code",
   "execution_count": null,
   "metadata": {},
   "outputs": [],
   "source": [
    "ss.mySqrt(self=None,x=5)"
   ]
  },
  {
   "cell_type": "code",
   "execution_count": null,
   "metadata": {},
   "outputs": [],
   "source": [
    "7*9*2*2*9*9*3*6"
   ]
  },
  {
   "cell_type": "code",
   "execution_count": null,
   "metadata": {},
   "outputs": [],
   "source": []
  },
  {
   "cell_type": "code",
   "execution_count": null,
   "metadata": {},
   "outputs": [],
   "source": []
  },
  {
   "cell_type": "code",
   "execution_count": null,
   "metadata": {},
   "outputs": [],
   "source": []
  },
  {
   "cell_type": "code",
   "execution_count": null,
   "metadata": {},
   "outputs": [],
   "source": []
  },
  {
   "cell_type": "code",
   "execution_count": null,
   "metadata": {},
   "outputs": [],
   "source": []
  },
  {
   "cell_type": "code",
   "execution_count": null,
   "metadata": {},
   "outputs": [],
   "source": []
  },
  {
   "cell_type": "code",
   "execution_count": null,
   "metadata": {},
   "outputs": [],
   "source": []
  },
  {
   "cell_type": "code",
   "execution_count": null,
   "metadata": {},
   "outputs": [],
   "source": []
  },
  {
   "cell_type": "code",
   "execution_count": null,
   "metadata": {},
   "outputs": [],
   "source": []
  },
  {
   "cell_type": "code",
   "execution_count": null,
   "metadata": {},
   "outputs": [],
   "source": [
    "a = {}"
   ]
  },
  {
   "cell_type": "code",
   "execution_count": null,
   "metadata": {},
   "outputs": [],
   "source": [
    "a[1] = 2"
   ]
  },
  {
   "cell_type": "code",
   "execution_count": null,
   "metadata": {},
   "outputs": [],
   "source": [
    "a[2] = 3"
   ]
  },
  {
   "cell_type": "code",
   "execution_count": null,
   "metadata": {},
   "outputs": [],
   "source": [
    "nums = [1,2,2,2]\n",
    "dic = {}\n",
    "for num in nums:\n",
    "#     print (num,dic.get(num, 0))\n",
    "    dic[num] = dic.get(num, '0')+'1'\n",
    "#     print (num,dic[num])\n",
    "print (dic)    "
   ]
  },
  {
   "cell_type": "code",
   "execution_count": null,
   "metadata": {},
   "outputs": [],
   "source": [
    "dic.get(2,6)"
   ]
  },
  {
   "cell_type": "code",
   "execution_count": null,
   "metadata": {},
   "outputs": [],
   "source": [
    "dic"
   ]
  },
  {
   "cell_type": "code",
   "execution_count": null,
   "metadata": {},
   "outputs": [],
   "source": []
  },
  {
   "cell_type": "code",
   "execution_count": null,
   "metadata": {},
   "outputs": [],
   "source": []
  },
  {
   "cell_type": "code",
   "execution_count": null,
   "metadata": {},
   "outputs": [],
   "source": []
  },
  {
   "cell_type": "code",
   "execution_count": null,
   "metadata": {},
   "outputs": [],
   "source": []
  },
  {
   "cell_type": "code",
   "execution_count": null,
   "metadata": {},
   "outputs": [],
   "source": [
    "dic"
   ]
  },
  {
   "cell_type": "code",
   "execution_count": null,
   "metadata": {},
   "outputs": [],
   "source": []
  },
  {
   "cell_type": "code",
   "execution_count": null,
   "metadata": {},
   "outputs": [],
   "source": [
    "dic.get(2, 1)+1"
   ]
  },
  {
   "cell_type": "code",
   "execution_count": null,
   "metadata": {},
   "outputs": [],
   "source": [
    "car = {\n",
    "  \"brand\": \"Ford\",\n",
    "  \"model\": \"Mustang\",\n",
    "  \"year\": 1964\n",
    "}\n",
    "\n",
    "x = car.get(\"model\",1)\n",
    "\n"
   ]
  },
  {
   "cell_type": "code",
   "execution_count": null,
   "metadata": {},
   "outputs": [],
   "source": [
    "print(x)"
   ]
  },
  {
   "cell_type": "code",
   "execution_count": null,
   "metadata": {},
   "outputs": [],
   "source": [
    "car"
   ]
  },
  {
   "cell_type": "code",
   "execution_count": null,
   "metadata": {},
   "outputs": [],
   "source": []
  },
  {
   "cell_type": "code",
   "execution_count": null,
   "metadata": {},
   "outputs": [],
   "source": []
  },
  {
   "cell_type": "code",
   "execution_count": null,
   "metadata": {},
   "outputs": [],
   "source": []
  },
  {
   "cell_type": "code",
   "execution_count": null,
   "metadata": {},
   "outputs": [],
   "source": []
  },
  {
   "cell_type": "code",
   "execution_count": null,
   "metadata": {},
   "outputs": [],
   "source": []
  }
 ],
 "metadata": {
  "kernelspec": {
   "display_name": "torch",
   "language": "python",
   "name": "torch"
  },
  "language_info": {
   "codemirror_mode": {
    "name": "ipython",
    "version": 3
   },
   "file_extension": ".py",
   "mimetype": "text/x-python",
   "name": "python",
   "nbconvert_exporter": "python",
   "pygments_lexer": "ipython3",
   "version": "3.9.5"
  }
 },
 "nbformat": 4,
 "nbformat_minor": 4
}
