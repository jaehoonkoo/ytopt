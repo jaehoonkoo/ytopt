{
 "cells": [
  {
   "cell_type": "code",
   "execution_count": 1,
   "metadata": {},
   "outputs": [],
   "source": [
    "import sys, os, time, glob\n",
    "import numpy as np\n",
    "from datetime import datetime\n",
    "from statistics import median\n",
    "import matplotlib.pyplot as plt\n",
    "# import statsmodels.api as sm\n",
    "import csv\n",
    "from csv import writer\n",
    "from csv import reader\n",
    "import pandas as pd "
   ]
  },
  {
   "cell_type": "code",
   "execution_count": 2,
   "metadata": {},
   "outputs": [
    {
     "name": "stdout",
     "output_type": "stream",
     "text": [
      "{'s': 0.001212, 'sm': 0.0142499999999999, 'm': 0.0551305, 'ml': 1.583127, 'l': 7.604848, 'xl': 74.8621655}\n"
     ]
    }
   ],
   "source": [
    "dir_name = '/lcrc/project/EE-ECP/jkoo/code/sdv/Benchmarks/'\n",
    "kernel_dir = 'covariance_void'\n",
    "kernel_dir = '3mm_void'\n",
    "kernel = '3mm'\n",
    "kernel_dir = 'covariance_void'\n",
    "kernel = 'covariance'\n",
    "# kernel_dir = 'heat-3d_void'\n",
    "# kernel = 'heat-3d'\n",
    "# kernel_dir = 'floyd-warshall_void'\n",
    "# kernel = 'floyd-warshall'\n",
    "kernel_dir = 'lu_void'\n",
    "kernel = 'lu'\n",
    "# kernel_dir = 'syr2k_void'\n",
    "# kernel = 'syr2k'\n",
    "\n",
    "d_sizes = ['s','sm','m','ml','l','xl']\n",
    "o3p = {}\n",
    "for s in d_sizes: \n",
    "    time = pd.read_csv(f'{dir_name}{kernel}_exp/{kernel_dir}/results_{s}_{kernel}_void.csv')['objective']\n",
    "    o3p[s] = float(time)\n",
    "print (o3p)    "
   ]
  },
  {
   "cell_type": "code",
   "execution_count": null,
   "metadata": {},
   "outputs": [],
   "source": []
  },
  {
   "cell_type": "code",
   "execution_count": 3,
   "metadata": {
    "scrolled": true
   },
   "outputs": [
    {
     "name": "stdout",
     "output_type": "stream",
     "text": [
      "cutoff 1.1636452719255186\n",
      "cutoff 1.0105795939940767\n",
      "cutoff 0.9943601975316567\n"
     ]
    }
   ],
   "source": [
    "#### RF rerun \n",
    "dir_name = '/lcrc/project/EE-ECP/jkoo/code/ytopt/ytopt/benchmark/polybench-exp'\n",
    "dir_name_gptune = '/lcrc/project/EE-ECP/jkoo/code/gptune/examples'\n",
    "N_infer = 30 # len(200)\n",
    "n = N_infer\n",
    "# plot something\n",
    "\n",
    "d_sizes = ['sm','ml','xl']\n",
    "gathered = []\n",
    "cutoffs = []\n",
    "\n",
    "gathered = [] \n",
    "cutoffs = [] \n",
    "tag1 = ''#_1.96_gp'# '_1.96_lcb'# \n",
    "tag2 = '' # '_19.6_lcb'#_1.96_gp_n30'# '_11.0_lcb' # \n",
    "tag3 = ''\n",
    "tag4 = ''#_1.96_gp'# '_1.96_lcb'# \n",
    "tag5 = ''#_1.96_gp_n30'# '_11.0_lcb' # \n",
    "\n",
    "for d_size, o3 in zip(d_sizes, o3p):   \n",
    "    \n",
    "    alpha = 0.1\n",
    "    t = 0\n",
    "    evals = []    \n",
    "    \n",
    "    ### BO\n",
    "    file_n = f'{dir_name}/{kernel}/results_rf_{d_size}_{kernel}{tag1}.csv'\n",
    "    evals_bo = o3p[d_size] / np.array(pd.read_csv(file_n)['objective']) \n",
    "    T_bo  = np.array(pd.read_csv(file_n)['elapsed_sec'])\n",
    "    evals.extend(evals_bo)\n",
    "    counter_bo = 0 \n",
    "    plot_bo = [0]\n",
    "    best_bo = 0.\n",
    "    idx_bo = 0\n",
    "    t_bo = T_bo[idx_bo] \n",
    "\n",
    "    ## RS \n",
    "    file_n = f'{dir_name}/{kernel}/results_rs_{d_size}_{kernel}{tag1}.csv'\n",
    "    evals_rs = o3p[d_size] / np.array(pd.read_csv(file_n)['objective']) \n",
    "    T_rs  = np.array(pd.read_csv(file_n)['elapsed_sec'])\n",
    "    evals.extend(evals_rs)\n",
    "    counter_rs = 0\n",
    "    plot_rs = [0]\n",
    "    best_rs = 0. \n",
    "    idx_rs = 0\n",
    "    t_rs = T_rs[idx_rs]\n",
    "    \n",
    "        \n",
    "    ## GPTUNE \n",
    "    file_n = f'{dir_name_gptune}/{kernel}_exp/{kernel}_gptune_dtla/TLA_experiments/SLA-GPTune-{d_size}-tl/results.csv'\n",
    "    evals_dtla = o3p[d_size] / np.array(pd.read_csv(file_n)['objective']) \n",
    "    T_dtla  = np.array(pd.read_csv(file_n)['elapsed_sec'])    \n",
    "    evals.extend(evals_dtla)\n",
    "    counter_dtla = 0\n",
    "    plot_dtla = [0]\n",
    "    best_dtla = 0.\n",
    "    idx_dtla = 0\n",
    "    t_dtla = T_dtla[idx_dtla]\n",
    "    \n",
    "    ## SDV\n",
    "    file_n = f'{dir_name}/{kernel}/results_sdv_{d_size}_{kernel}{tag1}.csv'\n",
    "    evals_sdv = o3p[d_size] / np.array(pd.read_csv(file_n)['exe_time']) \n",
    "    T_sdv = np.array(pd.read_csv(file_n)['elapsed_sec'])  \n",
    "    evals.extend(evals_sdv)\n",
    "    counter_sdv = 0 \n",
    "    plot_sdv = [0] \n",
    "    best_sdv = 0.\n",
    "    idx_sdv = 0       \n",
    "    try:\n",
    "        t_sdv = T_sdv[idx_sdv]\n",
    "    except IndexError:\n",
    "        t_sdv = 0\n",
    "        \n",
    "    ## SDV refit\n",
    "    file_n = f'{dir_name}/{kernel}/results_sdv_{d_size}_{kernel}{tag1}_refit.csv'\n",
    "    evals_sdv_refit = o3p[d_size] / np.array(pd.read_csv(file_n)['exe_time']) \n",
    "    T_sdv_refit = np.array(pd.read_csv(file_n)['elapsed_sec'])  \n",
    "    evals.extend(evals_sdv_refit)\n",
    "    counter_sdv_refit = 0 \n",
    "    plot_sdv_refit = [0] \n",
    "    best_sdv_refit = 0.\n",
    "    idx_sdv_refit = 0       \n",
    "    try:\n",
    "        t_sdv_refit = T_sdv_refit[idx_sdv_refit]\n",
    "    except IndexError:\n",
    "        t_sdv_refit = 0        \n",
    "         \n",
    "    cutoff = sorted(evals, reverse=True)[int(len(evals)*alpha)]#[0]\n",
    "    print ('cutoff', cutoff)    \n",
    "        \n",
    "#     T_max = int(max(T_bo.max(), T_rs.max(), T_dtla.max(), T_sdv.max(), T_sdv_itr.max()))     \n",
    "    T_max = int(max(T_bo.max(), T_rs.max(), T_dtla.max())) \n",
    "    while t < T_max:  \n",
    "        # bo\n",
    "        try: \n",
    "            if t_bo < t and idx_bo <= N_infer-1:\n",
    "                bo_tmp = float(evals_bo[idx_bo])   \n",
    "                if bo_tmp > best_bo:\n",
    "                    best_bo =  bo_tmp\n",
    "                plot_bo.append(best_bo)\n",
    "                idx_bo += 1 \n",
    "                if idx_bo <= N_infer-1:\n",
    "                    t_bo = T_bo[idx_bo]\n",
    "            elif idx_bo == N_infer:\n",
    "                pass\n",
    "            else:\n",
    "                plot_bo.append(best_bo)\n",
    "        except IndexError:\n",
    "            pass            \n",
    "        # rs  \n",
    "        try: \n",
    "            if t_rs < t and idx_rs <= N_infer-1: \n",
    "                rs_tmp = float(evals_rs[idx_rs])    \n",
    "                if rs_tmp > best_rs:\n",
    "                    best_rs =  rs_tmp \n",
    "                plot_rs.append(best_rs)\n",
    "                idx_rs += 1 \n",
    "                if idx_rs <= N_infer-1:\n",
    "                    t_rs = T_rs[idx_rs]\n",
    "            elif idx_rs == N_infer:\n",
    "                pass\n",
    "            else:\n",
    "                plot_rs.append(best_rs)\n",
    "        except IndexError:\n",
    "            pass                \n",
    "\n",
    "          # gptune \n",
    "        try:    \n",
    "            if t_dtla < t and idx_dtla <= N_infer-1:\n",
    "                dtla_tmp_itr = float(evals_dtla[idx_dtla])\n",
    "                if dtla_tmp_itr > best_dtla:\n",
    "                    best_dtla =  dtla_tmp_itr \n",
    "                plot_dtla.append(best_dtla)\n",
    "                idx_dtla += 1 \n",
    "                if idx_dtla <= N_infer-1:\n",
    "                    t_dtla = T_dtla[idx_dtla]    \n",
    "            elif idx_dtla == N_infer:\n",
    "                pass\n",
    "            else:\n",
    "                plot_dtla.append(best_dtla)  \n",
    "        except IndexError:\n",
    "            pass\n",
    "            \n",
    "        # sdv \n",
    "        try:\n",
    "            if t_sdv < t and idx_sdv <= N_infer-1:\n",
    "                sdv_tmp = float(evals_sdv[idx_sdv])\n",
    "                if sdv_tmp > best_sdv:\n",
    "                    best_sdv =  sdv_tmp \n",
    "                plot_sdv.append(best_sdv)\n",
    "                idx_sdv += 1 \n",
    "                if idx_sdv <= 29:\n",
    "                    t_sdv = T_sdv[idx_sdv]    \n",
    "            elif idx_sdv == N_infer:\n",
    "                pass\n",
    "            else:\n",
    "                plot_sdv.append(best_sdv)   \n",
    "        except IndexError:\n",
    "            pass                \n",
    "\n",
    "        # sdv refit\n",
    "        try:\n",
    "            if t_sdv_refit < t and idx_sdv_refit <= N_infer-1:\n",
    "                sdv_tmp_refit = float(evals_sdv_refit[idx_sdv_refit])\n",
    "                if sdv_tmp_refit > best_sdv_refit:\n",
    "                    best_sdv_refit =  sdv_tmp_refit \n",
    "                plot_sdv_refit.append(best_sdv_refit)\n",
    "                idx_sdv_refit += 1 \n",
    "                if idx_sdv_refit <= 29:\n",
    "                    t_sdv_refit = T_sdv_refit[idx_sdv_refit]    \n",
    "            elif idx_sdv_refit == N_infer:\n",
    "                pass\n",
    "            else:\n",
    "                plot_sdv_refit.append(best_sdv_refit)   \n",
    "        except IndexError:\n",
    "            pass                \n",
    "        t += 1     \n",
    "            \n",
    "    cc = {}\n",
    "    cc['bo'] = plot_bo\n",
    "    cc['rs'] = plot_rs\n",
    "    cc['dtla'] = plot_dtla\n",
    "    \n",
    "#     cc['kde'] = plot_kde\n",
    "    cc['sdv'] = plot_sdv \n",
    "#     cc['sdv_30'] = plot_sdv_30\n",
    "#     cc['sdv_50'] = plot_sdv_50\n",
    "    cc['sdv_refit'] = plot_sdv_refit\n",
    "\n",
    "    gathered.append(cc)\n",
    "#     cutoffs.append(cutoff)"
   ]
  },
  {
   "cell_type": "code",
   "execution_count": null,
   "metadata": {},
   "outputs": [],
   "source": []
  },
  {
   "cell_type": "code",
   "execution_count": 4,
   "metadata": {},
   "outputs": [
    {
     "data": {
      "image/png": "[encoded data removed]",
      "text/plain": [
       "<Figure size 1080x216 with 3 Axes>"
      ]
     },
     "metadata": {
      "needs_background": "light"
     },
     "output_type": "display_data"
    }
   ],
   "source": [
    "fig, axs = plt.subplots(1,3, figsize=(15, 3), sharex=False, sharey=True)\n",
    "BEST = []\n",
    "count = 0 \n",
    "for ax, cc, d_size in zip(axs.flat,gathered,d_sizes):\n",
    "# for cc in gathered:\n",
    "#     ax.scatter(*np.random.normal(size=(2,200)))\n",
    "#     ax.set_title(kernel+d_size,fontsize=14)\n",
    "    dict_s = cc\n",
    "    #     dict_s['-O3 Polly'] = [0] *1000\n",
    "    for k, v in dict_s.items():\n",
    "        if k == 'bo':\n",
    "            k = 'RF ' + tag1 \n",
    "#             k = 'RF lcb 1.96 n1'\n",
    "            color = 'blue'\n",
    "        if k == 'rs':\n",
    "            k = 'RS ' + tag2 \n",
    "#             k = 'RF lcb 11.0 n1'\n",
    "            color = 'orange'\n",
    "        if k == 'dtla':\n",
    "            k = 'GPTune_DTLA'\n",
    "            color = 'purple'    \n",
    "        if k == 'sdv':\n",
    "            k = 'SDV ' + tag3\n",
    "            color = 'green'\n",
    "        if len(v) ==2:\n",
    "            k = \"\"\n",
    "            color = 'white'\n",
    "#         if k == 'sdv_30':\n",
    "#             k = 'SDV_30'\n",
    "#             color = 'red'\n",
    "#         if k == 'sdv_50':\n",
    "#             k = 'SDV_50'\n",
    "#             color = 'purple'\n",
    "        if k == 'sdv_refit':\n",
    "            k = 'SDV_refit ' + tag4\n",
    "            color = 'red'\n",
    "#         print (d_size, k, v[-1])\n",
    "        BEST.append(v[-1])\n",
    "        ax.plot(range(1, len(v) + 1), v, '.-', label=k,linewidth=1.5,markersize=1.5,color=color)\n",
    "        # NOTE: changed `range(1, 4)` to mach actual values count\n",
    "    ax.legend(fontsize=13)#,loc='center right')  # To draw legend\n",
    "    #     plt.title(k_name[:-1],fontsize=14)\n",
    "    # plt.xlim(0,max_exp+10)\n",
    "    #     plt.ylim(bottom=0.5)\n",
    "    ax.set_ylabel('Best speedup so far', fontsize=12)\n",
    "    ax.set_xlabel('Elapsed time (Seconds)', fontsize=12)\n",
    "    ax.set_title(kernel+'_'+d_size,fontsize=12)\n",
    "    ax.tick_params(axis=\"x\", labelsize=12) \n",
    "    ax.tick_params(axis=\"y\", labelsize=12) \n",
    "#     ax.set_xticklabels(fontsize=14)\n",
    "#     ax.set_yticklabels(fontsize=14)\n",
    "    ax.grid()\n",
    "#     plt.show()\n"
   ]
  },
  {
   "cell_type": "code",
   "execution_count": null,
   "metadata": {},
   "outputs": [],
   "source": []
  },
  {
   "cell_type": "code",
   "execution_count": null,
   "metadata": {},
   "outputs": [],
   "source": []
  },
  {
   "cell_type": "code",
   "execution_count": null,
   "metadata": {},
   "outputs": [],
   "source": [
    "import numpy as np\n",
    "import matplotlib.pyplot as plt\n",
    "\n",
    "# set width of bar\n",
    "barWidth = 0.2\n",
    "fig = plt.subplots(figsize =(12, 8))\n",
    "\n",
    "# set height of bar\n",
    "###### S   M   L\n",
    "'''\n",
    "1.506179\n",
    "7.544698\n",
    "30.0485\n",
    "'''\n",
    "\n",
    "\n",
    "bb  = BEST\n",
    "RF  = [bb[0], bb[3],bb[6]]#, 0, 0]\n",
    "RS  = [bb[1], bb[4], bb[7]]#, 0, 0]\n",
    "GPT = [bb[2], bb[5], bb[8]] #, 0, 0]\n",
    "\n",
    "o3p = [1.078895,2.270945,6.515330000]\n",
    "\n",
    "# TLA1 = [1.506179/0.163,7.544698 /0.8192, 30.0485/3.2781]\n",
    "\n",
    "TLA1 = [o3p[0]/0.8985,o3p[1]/1.8721, o3p[2]/4.8765]\n",
    "\n",
    "# Set position of bar on Xaxis\n",
    "br1 = np.arange(len(RF))\n",
    "br2 = [x + barWidth for x in br1]\n",
    "br3 = [x + barWidth for x in br2]\n",
    "br4 = [x + barWidth for x in br3]\n",
    "\n",
    "# Make the plot\n",
    "plt.bar(br1, RF, color ='blue', width = barWidth,\n",
    "\t\tedgecolor ='grey', label ='RF')\n",
    "plt.bar(br2, RS, color ='red', width = barWidth,\n",
    "\t\tedgecolor ='grey', label ='GC no refit')\n",
    "plt.bar(br3, GPT, color ='pink', width = barWidth,\n",
    "\t\tedgecolor ='grey', label ='GC refit')\n",
    "plt.bar(br4, TLA1, color ='purple', width = barWidth,\n",
    "\t\tedgecolor ='grey', label ='GPTune TLA1')\n",
    "\n",
    "# Adding Xticks\n",
    "plt.xlabel('Input size', fontweight ='bold', fontsize = 12)\n",
    "plt.ylabel('Best speedup', fontweight ='bold', fontsize = 12)\n",
    "plt.xticks([r + barWidth for r in range(len(RF))],\n",
    "\t\t['SM', 'ML', 'XL'])#, '', ''])\n",
    "plt.title('Target sizes: '+kernel_dir, fontweight ='bold', fontsize = 15)\n",
    "plt.legend()\n",
    "plt.show()\n"
   ]
  },
  {
   "cell_type": "code",
   "execution_count": null,
   "metadata": {},
   "outputs": [],
   "source": []
  },
  {
   "cell_type": "code",
   "execution_count": null,
   "metadata": {},
   "outputs": [],
   "source": []
  },
  {
   "cell_type": "code",
   "execution_count": null,
   "metadata": {},
   "outputs": [],
   "source": []
  },
  {
   "cell_type": "code",
   "execution_count": null,
   "metadata": {},
   "outputs": [],
   "source": []
  },
  {
   "cell_type": "code",
   "execution_count": null,
   "metadata": {},
   "outputs": [],
   "source": []
  },
  {
   "cell_type": "code",
   "execution_count": null,
   "metadata": {},
   "outputs": [],
   "source": []
  },
  {
   "cell_type": "code",
   "execution_count": null,
   "metadata": {},
   "outputs": [],
   "source": []
  },
  {
   "cell_type": "code",
   "execution_count": null,
   "metadata": {},
   "outputs": [],
   "source": []
  },
  {
   "cell_type": "code",
   "execution_count": null,
   "metadata": {},
   "outputs": [],
   "source": []
  },
  {
   "cell_type": "code",
   "execution_count": null,
   "metadata": {},
   "outputs": [],
   "source": [
    "import sys, os, time, glob\n",
    "import numpy as np\n",
    "from datetime import datetime\n",
    "from statistics import median\n",
    "import matplotlib.pyplot as plt\n",
    "import statsmodels.api as sm\n",
    "import csv\n",
    "from csv import writer\n",
    "from csv import reader\n",
    "import pandas as pd "
   ]
  },
  {
   "cell_type": "code",
   "execution_count": null,
   "metadata": {},
   "outputs": [],
   "source": [
    "d_sizes = ['sm']#,'ml','xl']\n",
    "idx_start = [24,33,42]\n",
    "gathered = [] \n",
    "cutoffs = [] \n",
    "what = 'exe_time'\n",
    "for d_size, i_start in zip(d_sizes,idx_start):\n",
    "#     T_bo  = np.array(pd.read_csv('./xsbench/results_rf_' +d_size + '_xsbench.csv')[what])\n",
    "#     T_rs  = np.array(pd.read_csv('./xsbench/results_rs_' +d_size + '_xsbench.csv')[what])\n",
    "#     T_kde = np.array(pd.read_csv('./xsbench/results_kde_' +d_size + '_xsbench.csv')[what])\n",
    "    T_sdv = np.array(pd.read_csv('./xsbench/results_sdv_' +d_size + '_xsbench.csv')[what])\n",
    "    plt.plot(T_sdv)\n",
    "    m = T_sdv.mean()\n",
    "    s = T_sdv.std()\n",
    "#     plt.ylim((T_sdv.min(),m+s))\n",
    "    ss = 0.0005\n",
    "    plt.ylim((T_sdv.min()-ss,m+ss))\n",
    "    plt.title()\n",
    "    plt.xlabel()\n",
    "    plt.ylabel('Execution time')\n",
    "    plt.show()"
   ]
  },
  {
   "cell_type": "code",
   "execution_count": null,
   "metadata": {},
   "outputs": [],
   "source": [
    "tt = [\n",
    "    0.444345, \n",
    "    0.4481, \n",
    "    0.45314, \n",
    "    0.510685, \n",
    "    0.565134999, \n",
    "    1.042415, \n",
    "    1.622645, \n",
    "    6.5066349, \n",
    "    12.19831, \n",
    "    23.72206, \n",
    "    24.83412] "
   ]
  },
  {
   "cell_type": "code",
   "execution_count": null,
   "metadata": {},
   "outputs": [],
   "source": [
    "input_sizes = {}\n",
    "input_sizes['s1']  = [100000]\n",
    "input_sizes['s2']  = [500000]\n",
    "input_sizes['s3']  = [1000000]\n",
    "input_sizes['s4']  = [5000000]\n",
    "input_sizes['s5']  = [10000000]\n",
    "input_sizes['s6']  = [50000000]\n",
    "input_sizes['s7']  = [100000000]\n",
    "input_sizes['s8']  = [500000000]\n",
    "input_sizes['s9']  = [1000000000]\n",
    "input_sizes['s10'] = [2000000000]\n",
    "input_sizes['s11'] = [2100000000]"
   ]
  },
  {
   "cell_type": "code",
   "execution_count": null,
   "metadata": {},
   "outputs": [],
   "source": [
    "ss = []\n",
    "for key in input_sizes.keys():\n",
    "    print (key)\n",
    "    ss.append(input_sizes[key][0])"
   ]
  },
  {
   "cell_type": "code",
   "execution_count": null,
   "metadata": {},
   "outputs": [],
   "source": [
    "ss"
   ]
  },
  {
   "cell_type": "code",
   "execution_count": null,
   "metadata": {},
   "outputs": [],
   "source": [
    "plt.scatter(ss,tt)"
   ]
  },
  {
   "cell_type": "code",
   "execution_count": null,
   "metadata": {},
   "outputs": [],
   "source": [
    "for t in ss:\n",
    "    print (t)"
   ]
  },
  {
   "cell_type": "code",
   "execution_count": null,
   "metadata": {},
   "outputs": [],
   "source": []
  },
  {
   "cell_type": "code",
   "execution_count": null,
   "metadata": {},
   "outputs": [],
   "source": []
  },
  {
   "cell_type": "code",
   "execution_count": null,
   "metadata": {},
   "outputs": [],
   "source": []
  },
  {
   "cell_type": "code",
   "execution_count": null,
   "metadata": {},
   "outputs": [],
   "source": []
  },
  {
   "cell_type": "code",
   "execution_count": null,
   "metadata": {},
   "outputs": [],
   "source": []
  },
  {
   "cell_type": "code",
   "execution_count": null,
   "metadata": {},
   "outputs": [],
   "source": []
  },
  {
   "cell_type": "code",
   "execution_count": null,
   "metadata": {},
   "outputs": [],
   "source": []
  },
  {
   "cell_type": "code",
   "execution_count": null,
   "metadata": {},
   "outputs": [],
   "source": []
  },
  {
   "cell_type": "code",
   "execution_count": null,
   "metadata": {},
   "outputs": [],
   "source": [
    "class Solution(object):\n",
    "    def mySqrt(self, x):\n",
    "        \"\"\"\n",
    "        :type x: int\n",
    "        :rtype: int\n",
    "        \"\"\"\n",
    "#         if x == 0:\n",
    "#             return 0\n",
    "#         if x <= 3:\n",
    "#             return 1 \n",
    "        \n",
    "#         stop = False \n",
    "#         count = 2 \n",
    "#         while stop == False:\n",
    "            \n",
    "#             compare = count * count\n",
    "#             if x == compare:\n",
    "#                 return count\n",
    "#             if x < compare:\n",
    "#                 return count -1\n",
    "            \n",
    "#             count += 1 \n",
    "        \n",
    "        ### binar search \n",
    "        l, r = 0, x\n",
    "        while l <= r:\n",
    "            mid = l + (r-l)//2\n",
    "            if mid * mid <= x < (mid+1)*(mid+1):\n",
    "                return mid\n",
    "            elif x < mid * mid:\n",
    "                r = mid - 1\n",
    "            else:\n",
    "                l = mid + 1  "
   ]
  },
  {
   "cell_type": "code",
   "execution_count": null,
   "metadata": {},
   "outputs": [],
   "source": [
    "ss = Solution"
   ]
  },
  {
   "cell_type": "code",
   "execution_count": null,
   "metadata": {},
   "outputs": [],
   "source": [
    "ss.mySqrt(self=None,x=5)"
   ]
  },
  {
   "cell_type": "code",
   "execution_count": null,
   "metadata": {},
   "outputs": [],
   "source": [
    "7*9*2*2*9*9*3*6"
   ]
  },
  {
   "cell_type": "code",
   "execution_count": null,
   "metadata": {},
   "outputs": [],
   "source": []
  },
  {
   "cell_type": "code",
   "execution_count": null,
   "metadata": {},
   "outputs": [],
   "source": []
  },
  {
   "cell_type": "code",
   "execution_count": null,
   "metadata": {},
   "outputs": [],
   "source": []
  },
  {
   "cell_type": "code",
   "execution_count": null,
   "metadata": {},
   "outputs": [],
   "source": []
  },
  {
   "cell_type": "code",
   "execution_count": null,
   "metadata": {},
   "outputs": [],
   "source": []
  },
  {
   "cell_type": "code",
   "execution_count": null,
   "metadata": {},
   "outputs": [],
   "source": []
  },
  {
   "cell_type": "code",
   "execution_count": null,
   "metadata": {},
   "outputs": [],
   "source": []
  },
  {
   "cell_type": "code",
   "execution_count": null,
   "metadata": {},
   "outputs": [],
   "source": []
  },
  {
   "cell_type": "code",
   "execution_count": null,
   "metadata": {},
   "outputs": [],
   "source": []
  },
  {
   "cell_type": "code",
   "execution_count": null,
   "metadata": {},
   "outputs": [],
   "source": [
    "a = {}"
   ]
  },
  {
   "cell_type": "code",
   "execution_count": null,
   "metadata": {},
   "outputs": [],
   "source": [
    "a[1] = 2"
   ]
  },
  {
   "cell_type": "code",
   "execution_count": null,
   "metadata": {},
   "outputs": [],
   "source": [
    "a[2] = 3"
   ]
  },
  {
   "cell_type": "code",
   "execution_count": null,
   "metadata": {},
   "outputs": [],
   "source": [
    "nums = [1,2,2,2]\n",
    "dic = {}\n",
    "for num in nums:\n",
    "#     print (num,dic.get(num, 0))\n",
    "    dic[num] = dic.get(num, '0')+'1'\n",
    "#     print (num,dic[num])\n",
    "print (dic)    "
   ]
  },
  {
   "cell_type": "code",
   "execution_count": null,
   "metadata": {},
   "outputs": [],
   "source": [
    "dic.get(2,6)"
   ]
  },
  {
   "cell_type": "code",
   "execution_count": null,
   "metadata": {},
   "outputs": [],
   "source": [
    "dic"
   ]
  },
  {
   "cell_type": "code",
   "execution_count": null,
   "metadata": {},
   "outputs": [],
   "source": []
  },
  {
   "cell_type": "code",
   "execution_count": null,
   "metadata": {},
   "outputs": [],
   "source": []
  },
  {
   "cell_type": "code",
   "execution_count": null,
   "metadata": {},
   "outputs": [],
   "source": []
  },
  {
   "cell_type": "code",
   "execution_count": null,
   "metadata": {},
   "outputs": [],
   "source": []
  },
  {
   "cell_type": "code",
   "execution_count": null,
   "metadata": {},
   "outputs": [],
   "source": [
    "dic"
   ]
  },
  {
   "cell_type": "code",
   "execution_count": null,
   "metadata": {},
   "outputs": [],
   "source": []
  },
  {
   "cell_type": "code",
   "execution_count": null,
   "metadata": {},
   "outputs": [],
   "source": [
    "dic.get(2, 1)+1"
   ]
  },
  {
   "cell_type": "code",
   "execution_count": null,
   "metadata": {},
   "outputs": [],
   "source": [
    "car = {\n",
    "  \"brand\": \"Ford\",\n",
    "  \"model\": \"Mustang\",\n",
    "  \"year\": 1964\n",
    "}\n",
    "\n",
    "x = car.get(\"model\",1)\n",
    "\n"
   ]
  },
  {
   "cell_type": "code",
   "execution_count": null,
   "metadata": {},
   "outputs": [],
   "source": [
    "print(x)"
   ]
  },
  {
   "cell_type": "code",
   "execution_count": null,
   "metadata": {},
   "outputs": [],
   "source": [
    "car"
   ]
  },
  {
   "cell_type": "code",
   "execution_count": null,
   "metadata": {},
   "outputs": [],
   "source": []
  },
  {
   "cell_type": "code",
   "execution_count": null,
   "metadata": {},
   "outputs": [],
   "source": []
  },
  {
   "cell_type": "code",
   "execution_count": null,
   "metadata": {},
   "outputs": [],
   "source": []
  },
  {
   "cell_type": "code",
   "execution_count": null,
   "metadata": {},
   "outputs": [],
   "source": []
  },
  {
   "cell_type": "code",
   "execution_count": null,
   "metadata": {},
   "outputs": [],
   "source": []
  }
 ],
 "metadata": {
  "kernelspec": {
   "display_name": "torch",
   "language": "python",
   "name": "torch"
  },
  "language_info": {
   "codemirror_mode": {
    "name": "ipython",
    "version": 3
   },
   "file_extension": ".py",
   "mimetype": "text/x-python",
   "name": "python",
   "nbconvert_exporter": "python",
   "pygments_lexer": "ipython3",
   "version": "3.9.5"
  }
 },
 "nbformat": 4,
 "nbformat_minor": 4
}
