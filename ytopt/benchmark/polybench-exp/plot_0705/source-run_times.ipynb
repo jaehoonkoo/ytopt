{
 "cells": [
  {
   "cell_type": "code",
   "execution_count": null,
   "metadata": {},
   "outputs": [],
   "source": [
    "import sys, os, time, glob\n",
    "import numpy as np\n",
    "from datetime import datetime\n",
    "from statistics import median\n",
    "import matplotlib.pyplot as plt\n",
    "# import statsmodels.api as sm\n",
    "import csv\n",
    "from csv import writer\n",
    "from csv import reader\n",
    "import pandas as pd "
   ]
  },
  {
   "cell_type": "code",
   "execution_count": null,
   "metadata": {},
   "outputs": [],
   "source": []
  },
  {
   "cell_type": "code",
   "execution_count": null,
   "metadata": {},
   "outputs": [],
   "source": [
    "dir_name = '/lcrc/project/EE-ECP/jkoo/code/ytopt/ytopt/benchmark/polybench-exp'\n",
    "dir_name_gptune = '/lcrc/project/EE-ECP/jkoo/code/gptune/examples'\n",
    "kernel_dir = '3mm_void'\n",
    "kernel = '3mm'\n",
    "# kernel_dir = 'covariance_void'\n",
    "# kernel = 'covariance'\n",
    "# kernel_dir = 'heat-3d_void'\n",
    "# kernel = 'heat-3d'\n",
    "# kernel_dir = 'floyd-warshall_void'\n",
    "# kernel = 'floyd-warshall'\n",
    "# kernel_dir = 'lu_void'\n",
    "# kernel = 'lu'\n",
    "# kernel_dir = 'syr2k_void'\n",
    "# kernel = 'syr2k'\n",
    "d_sizes = ['s','m','l']\n",
    "\n",
    "tag1 = ''#_1.96_gp'# '_1.96_lcb'# \n",
    "tag2 = ''#_1.96_gp_n30'# '_11.0_lcb' # \n",
    "tag3 = ''#_sla_re'\n",
    "\n",
    "real_s = pd.read_csv(f'{dir_name}/{kernel}/results_rf_{d_sizes[0]}_{kernel}{tag1}.csv')\n",
    "real_m = pd.read_csv(f'{dir_name}/{kernel}/results_rf_{d_sizes[1]}_{kernel}{tag1}.csv')\n",
    "real_l = pd.read_csv(f'{dir_name}/{kernel}/results_rf_{d_sizes[2]}_{kernel}{tag1}.csv')\n",
    "\n",
    "real_s_rs = pd.read_csv(f'{dir_name}/{kernel}/results_rs_{d_sizes[0]}_{kernel}{tag1}.csv')\n",
    "real_m_rs = pd.read_csv(f'{dir_name}/{kernel}/results_rs_{d_sizes[1]}_{kernel}{tag1}.csv')\n",
    "real_l_rs = pd.read_csv(f'{dir_name}/{kernel}/results_rs_{d_sizes[2]}_{kernel}{tag1}.csv')\n",
    "\n",
    "# real_s_rs = pd.read_csv('./'+kernel_dir+'/results_rs_s_'+kernel+tag2+'.csv')\n",
    "# real_m_rs = pd.read_csv('./'+kernel_dir+'/results_rs_m_'+kernel+tag2+'.csv')\n",
    "# real_l_rs = pd.read_csv('./'+kernel_dir+'/results_rs_l_'+kernel+tag2+'.csv')\n",
    "\n",
    "\n",
    "real_s_gp = pd.read_csv(f'{dir_name_gptune}/{kernel}_exp/{kernel}_gptune_dtla/TLA_experiments/SLA-GPTune-{d_sizes[0]}-200/results.csv')\n",
    "real_m_gp = pd.read_csv(f'{dir_name_gptune}/{kernel}_exp/{kernel}_gptune_dtla/TLA_experiments/SLA-GPTune-{d_sizes[1]}-200/results.csv')\n",
    "real_l_gp = pd.read_csv(f'{dir_name_gptune}/{kernel}_exp/{kernel}_gptune_dtla/TLA_experiments/SLA-GPTune-{d_sizes[2]}-200/results.csv')\n",
    "\n",
    "# real_s_gp_sla = pd.read_csv('./'+kernel_dir+'/results_gptune_s_'+kernel+'_sla.csv')\n",
    "# real_m_gp_sla = pd.read_csv('./'+kernel_dir+'/results_gptune_m_'+kernel+'_sla.csv')\n",
    "# real_l_gp_sla = pd.read_csv('./'+kernel_dir+'/results_gptune_l_'+kernel+'_sla.csv')\n"
   ]
  },
  {
   "cell_type": "code",
   "execution_count": null,
   "metadata": {},
   "outputs": [],
   "source": []
  },
  {
   "cell_type": "code",
   "execution_count": null,
   "metadata": {},
   "outputs": [],
   "source": [
    "speedup_s =  real_s['objective'].astype(float)\n",
    "speedup_m =  real_m['objective'].astype(float)\n",
    "speedup_l =  real_l['objective'].astype(float)\n",
    "\n",
    "speedup_s_rs =  real_s_rs['objective'].astype(float)\n",
    "speedup_m_rs =  real_m_rs['objective'].astype(float)\n",
    "speedup_l_rs =  real_l_rs['objective'].astype(float)\n",
    "\n",
    "speedup_s_gp =  real_s_gp['objective'].astype(float)\n",
    "speedup_m_gp =  real_m_gp['objective'].astype(float)\n",
    "speedup_l_gp =  real_l_gp['objective'].astype(float)\n",
    "\n",
    "# speedup_s_gp_sla =  real_s_gp_sla['objective'].astype(float)\n",
    "# speedup_m_gp_sla =  real_m_gp_sla['objective'].astype(float)\n",
    "# speedup_l_gp_sla =  real_l_gp_sla['objective'].astype(float)"
   ]
  },
  {
   "cell_type": "code",
   "execution_count": null,
   "metadata": {},
   "outputs": [],
   "source": [
    "gathered = []\n",
    "\n",
    "# gathered.append([speedup_s,speedup_s_gp,speedup_s_gp_sla])\n",
    "# gathered.append([speedup_m,speedup_m_gp,speedup_m_gp_sla])\n",
    "# gathered.append([speedup_l,speedup_l_gp,speedup_l_gp_sla])\n",
    "\n",
    "gathered.append([speedup_s,speedup_s_rs,speedup_s_gp])\n",
    "gathered.append([speedup_m,speedup_m_rs,speedup_m_gp])\n",
    "gathered.append([speedup_l,speedup_l_rs,speedup_l_gp])"
   ]
  },
  {
   "cell_type": "code",
   "execution_count": null,
   "metadata": {},
   "outputs": [],
   "source": []
  },
  {
   "cell_type": "code",
   "execution_count": null,
   "metadata": {},
   "outputs": [],
   "source": [
    "fig, axs = plt.subplots(3,1, figsize=(15, 12), sharex=True, sharey=False)\n",
    "# kernel = 'xsbench'\n",
    "\n",
    "for ax, d_size, speedups in zip(axs.flat,['s','m','l'],gathered):\n",
    "# for cc in gathered:\n",
    "#     ax.scatter(*np.random.normal(size=(2,200)))\n",
    "#     ax.set_title(kernel+d_size,fontsize=14)\n",
    "#     dict_s = cc\n",
    "#     #     dict_s['-O3 Polly'] = [0] *1000\n",
    "    for i, speedup in zip(['rf','rs','gt'],speedups):\n",
    "        if i == 'rf':\n",
    "            k = 'RF'\n",
    "            color = 'blue'\n",
    "        if i == 'rs':\n",
    "            k = 'RS'\n",
    "            color = 'orange'\n",
    "            if d_size == 'lxxx':\n",
    "                color = 'white'\n",
    "        if i == 'gt':\n",
    "            k = 'GPTune SLA'\n",
    "            color = 'green'\n",
    "        v = speedup.values    \n",
    "        ax.plot(range(1, len(v) + 1), v, '.-', label=k,linewidth=0.5,markersize=3,color=color)\n",
    "        # NOTE: changed `range(1, 4)` to mach actual values count\n",
    "    ax.legend(fontsize=13)#,loc='center right')  # To draw legend\n",
    "    #     plt.title(k_name[:-1],fontsize=14)\n",
    "    # plt.xlim(0,max_exp+10)\n",
    "    #     plt.ylim(bottom=0.5)\n",
    "#     ax.set_ylabel('Execution time (sec.)', fontsize=12)\n",
    "    ax.set_ylabel('Execution time (sec.)', fontsize=12)\n",
    "    ax.set_xlabel('No. of evaluations', fontsize=12)\n",
    "    ax.set_title(kernel_dir+'_'+d_size,fontsize=12)\n",
    "    ax.tick_params(axis=\"x\", labelsize=12) \n",
    "    ax.tick_params(axis=\"y\", labelsize=12) \n",
    "#     ax.set_xticklabels(fontsize=14)\n",
    "#     ax.set_yticklabels(fontsize=14)\n",
    "#     if d_size == 's':\n",
    "#         ax.set_ylim((4.6,6.0))\n",
    "#     if d_size == 'm':\n",
    "#         ax.set_ylim((0.25,0.5))\n",
    "#     if d_size == 'l':\n",
    "#         ax.set_ylim((3,7))           \n",
    "    ax.grid()\n",
    "#     plt.show()"
   ]
  },
  {
   "cell_type": "code",
   "execution_count": null,
   "metadata": {},
   "outputs": [],
   "source": []
  },
  {
   "cell_type": "code",
   "execution_count": null,
   "metadata": {},
   "outputs": [],
   "source": []
  },
  {
   "cell_type": "code",
   "execution_count": null,
   "metadata": {},
   "outputs": [],
   "source": []
  },
  {
   "cell_type": "code",
   "execution_count": null,
   "metadata": {},
   "outputs": [],
   "source": []
  },
  {
   "cell_type": "code",
   "execution_count": null,
   "metadata": {},
   "outputs": [],
   "source": []
  },
  {
   "cell_type": "code",
   "execution_count": null,
   "metadata": {},
   "outputs": [],
   "source": []
  },
  {
   "cell_type": "code",
   "execution_count": null,
   "metadata": {},
   "outputs": [],
   "source": []
  },
  {
   "cell_type": "code",
   "execution_count": null,
   "metadata": {},
   "outputs": [],
   "source": []
  },
  {
   "cell_type": "code",
   "execution_count": null,
   "metadata": {},
   "outputs": [],
   "source": []
  },
  {
   "cell_type": "code",
   "execution_count": null,
   "metadata": {},
   "outputs": [],
   "source": [
    "fig, axs = plt.subplots(1,3, figsize=(15, 3), sharex=True, sharey=True)\n",
    "kernel = 'xsbench_M_'\n",
    "for ax, d_size, speedups in zip(axs.flat,['1.96 LCB','11.0 LCB','19.6 LCB'],gathered):\n",
    "# for cc in gathered:\n",
    "#     ax.scatter(*np.random.normal(size=(2,200)))\n",
    "#     ax.set_title(kernel+d_size,fontsize=14)\n",
    "#     dict_s = cc\n",
    "#     #     dict_s['-O3 Polly'] = [0] *1000\n",
    "    for i, speedup in zip(range(len(speedups)),speedups):\n",
    "        if i == 0:\n",
    "            k = ''\n",
    "            color = 'green'\n",
    "            v = speedup.values    \n",
    "            ax.plot(range(1, len(v) + 1), v, '.-', label=k,linewidth=0.5,markersize=3,color=color)\n",
    "        if i == 2:\n",
    "            k = ''\n",
    "            color = 'blue'\n",
    "            v = speedup.values    \n",
    "            ax.plot(range(1, len(v) + 1), v, '.-', label=k,linewidth=0.5,markersize=3,color=color)\n",
    "        if i == 2:\n",
    "            k = ''\n",
    "            color = 'orange'\n",
    "            v = speedup.values    \n",
    "            ax.plot(range(1, len(v) + 1), v, '.-', label=k,linewidth=0.5,markersize=3,color=color)\n",
    "        # NOTE: changed `range(1, 4)` to mach actual values count\n",
    "    ax.legend(fontsize=13)#,loc='center right')  # To draw legend\n",
    "    #     plt.title(k_name[:-1],fontsize=14)\n",
    "    # plt.xlim(0,max_exp+10)\n",
    "    #     plt.ylim(bottom=0.5)\n",
    "#     ax.set_ylabel('Execution time (sec.)', fontsize=12)\n",
    "#     ax.set_ylabel('Execution time (sec.)', fontsize=12)\n",
    "    ax.set_ylabel('Runtime', fontsize=12)\n",
    "    ax.set_xlabel('No. of evaluations', fontsize=12)\n",
    "    ax.set_title(kernel+d_size,fontsize=12)\n",
    "    ax.tick_params(axis=\"x\", labelsize=12) \n",
    "    ax.tick_params(axis=\"y\", labelsize=12) \n",
    "#     ax.set_xticklabels(fontsize=14)\n",
    "#     ax.set_yticklabels(fontsize=14)\n",
    "    ax.grid()\n",
    "#     plt.show()"
   ]
  },
  {
   "cell_type": "code",
   "execution_count": null,
   "metadata": {},
   "outputs": [],
   "source": []
  },
  {
   "cell_type": "code",
   "execution_count": null,
   "metadata": {},
   "outputs": [],
   "source": [
    "fig, axs = plt.subplots(1,3, figsize=(15, 3), sharex=True, sharey=True)\n",
    "kernel = 'xsbench_cpu_'\n",
    "for ax, d_size, speedups in zip(axs.flat,['M','M','M'],gathered):\n",
    "# for cc in gathered:\n",
    "#     ax.scatter(*np.random.normal(size=(2,200)))\n",
    "#     ax.set_title(kernel+d_size,fontsize=14)\n",
    "#     dict_s = cc\n",
    "#     #     dict_s['-O3 Polly'] = [0] *1000\n",
    "    for i, speedup in zip(range(len(speedups)),speedups):\n",
    "        if i == 0:\n",
    "            k = 'ytopt/BO'\n",
    "            color = 'green'\n",
    "            v = speedup.values    \n",
    "            ax.plot(range(1, len(v) + 1), v, '.-', label=k,linewidth=0.5,markersize=3,color=color)\n",
    "        if i == 22:\n",
    "            k = 'GPTune '\n",
    "            color = 'blue'\n",
    "            v = speedup.values    \n",
    "            ax.plot(range(1, len(v) + 1), v, '.-', label=k,linewidth=0.5,markersize=3,color=color)\n",
    "        # NOTE: changed `range(1, 4)` to mach actual values count\n",
    "    ax.legend(fontsize=13)#,loc='center right')  # To draw legend\n",
    "    #     plt.title(k_name[:-1],fontsize=14)\n",
    "    # plt.xlim(0,max_exp+10)\n",
    "    #     plt.ylim(bottom=0.5)\n",
    "#     ax.set_ylabel('Execution time (sec.)', fontsize=12)\n",
    "#     ax.set_ylabel('Execution time (sec.)', fontsize=12)\n",
    "    ax.set_ylabel('Runtime', fontsize=12)\n",
    "    ax.set_xlabel('No. of evaluations', fontsize=12)\n",
    "    ax.set_title(kernel+d_size,fontsize=12)\n",
    "    ax.tick_params(axis=\"x\", labelsize=12) \n",
    "    ax.tick_params(axis=\"y\", labelsize=12) \n",
    "#     ax.set_xticklabels(fontsize=14)\n",
    "#     ax.set_yticklabels(fontsize=14)\n",
    "    ax.grid()\n",
    "#     plt.show()"
   ]
  },
  {
   "cell_type": "code",
   "execution_count": null,
   "metadata": {},
   "outputs": [],
   "source": []
  },
  {
   "cell_type": "code",
   "execution_count": null,
   "metadata": {},
   "outputs": [],
   "source": []
  },
  {
   "cell_type": "code",
   "execution_count": null,
   "metadata": {},
   "outputs": [],
   "source": [
    "x = real_s_rs['p0']\n",
    "y = real_s_rs['objective']"
   ]
  },
  {
   "cell_type": "code",
   "execution_count": null,
   "metadata": {},
   "outputs": [],
   "source": [
    "plt.scatter(x,y)\n",
    "plt.xlabel('number of threads')\n",
    "plt.ylabel('Runtime')\n",
    "plt.title('XSBench CPU RS medium')"
   ]
  },
  {
   "cell_type": "code",
   "execution_count": null,
   "metadata": {},
   "outputs": [],
   "source": [
    "import seaborn as sns\n",
    "\n",
    "plt.figure(figsize=(15, 10))\n",
    "sns.heatmap(real_l_rs.corr(), annot=True)"
   ]
  },
  {
   "cell_type": "code",
   "execution_count": null,
   "metadata": {},
   "outputs": [],
   "source": [
    "\n",
    "pd.plotting.scatter_matrix(real_l_rs, marker='+')\n",
    "# real_l_rs.figure(figsize=(15, 10))"
   ]
  },
  {
   "cell_type": "code",
   "execution_count": null,
   "metadata": {},
   "outputs": [],
   "source": []
  },
  {
   "cell_type": "code",
   "execution_count": null,
   "metadata": {},
   "outputs": [],
   "source": []
  },
  {
   "cell_type": "code",
   "execution_count": null,
   "metadata": {},
   "outputs": [],
   "source": [
    "input_sizes = {}\n",
    "input_sizes['s']  = [100000] \n",
    "input_sizes['sm'] = [500000]\n",
    "input_sizes['m']  = [1000000]\n",
    "input_sizes['ml'] = [2500000]\n",
    "input_sizes['l']  = [5000000]\n",
    "input_sizes['xl'] = [10000000]\n",
    "\n",
    "# input_sizes['s']  = [10000000] \n",
    "# input_sizes['sm'] = [50000000]\n",
    "# input_sizes['m']  = [100000000]\n",
    "# input_sizes['ml'] = [150000000]\n",
    "# input_sizes['l']  = [200000000]\n",
    "# input_sizes['xl'] = [500000000]\n",
    "\n",
    "o3p_time = {}\n",
    "# o3p_time['s']  = [0.297755] ## 0.34313150000000003  [0., 3.258446, 16.2930585]\n",
    "o3p_time['s']  = [0.3243315] ## \n",
    "o3p_time['sm'] = [1.506179]\n",
    "# o3p_time['m']  = [3.00738]  ## \n",
    "o3p_time['m']  = [3.258446]  ## \n",
    "o3p_time['ml'] = [7.544698]\n",
    "# o3p_time['l']  = [15.0962] ## \n",
    "o3p_time['l']  = [16.2930585] ## \n",
    "o3p_time['xl'] = [30.0485]\n",
    "o3p_time = {}\n",
    "o3p_time['s']  = [1] \n",
    "o3p_time['sm'] = [1]\n",
    "o3p_time['m']  = [1] \n",
    "o3p_time['ml'] = [1]\n",
    "o3p_time['l']  = [1]\n",
    "o3p_time['xl'] = [1]"
   ]
  },
  {
   "cell_type": "code",
   "execution_count": null,
   "metadata": {},
   "outputs": [],
   "source": [
    "# speedup_s = o3p_time['s'][0] / real_s['objective'].astype(float)\n",
    "# speedup_m = o3p_time['m'][0] / real_m['objective'].astype(float)\n",
    "# speedup_l = o3p_time['l'][0] / real_l['objective'].astype(float)\n",
    "\n",
    "# speedup_s_rs = o3p_time['s'][0] / real_s_rs['objective'].astype(float)\n",
    "# speedup_m_rs = o3p_time['m'][0] / real_m_rs['objective'].astype(float)\n",
    "# speedup_l_rs = o3p_time['l'][0] / real_l_rs['objective'].astype(float)\n",
    "\n",
    "# speedup_s_gp = o3p_time['s'][0] / real_s_gp['objective'].astype(float)\n",
    "# speedup_m_gp = o3p_time['m'][0] / real_m_gp['objective'].astype(float)\n",
    "# speedup_l_gp = o3p_time['l'][0] / real_l_gp['objective'].astype(float)\n",
    "\n",
    "# speedup_s_gp_sla = o3p_time['s'][0] / real_s_gp_sla['objective'].astype(float)\n",
    "# speedup_m_gp_sla = o3p_time['m'][0] / real_m_gp_sla['objective'].astype(float)\n",
    "# speedup_l_gp_sla = o3p_time['l'][0] / real_l_gp_sla['objective'].astype(float)"
   ]
  },
  {
   "cell_type": "code",
   "execution_count": null,
   "metadata": {},
   "outputs": [],
   "source": []
  },
  {
   "cell_type": "code",
   "execution_count": null,
   "metadata": {},
   "outputs": [],
   "source": []
  },
  {
   "cell_type": "code",
   "execution_count": null,
   "metadata": {},
   "outputs": [],
   "source": []
  },
  {
   "cell_type": "code",
   "execution_count": null,
   "metadata": {},
   "outputs": [],
   "source": []
  },
  {
   "cell_type": "code",
   "execution_count": null,
   "metadata": {},
   "outputs": [],
   "source": []
  }
 ],
 "metadata": {
  "kernelspec": {
   "display_name": "torch",
   "language": "python",
   "name": "torch"
  },
  "language_info": {
   "codemirror_mode": {
    "name": "ipython",
    "version": 3
   },
   "file_extension": ".py",
   "mimetype": "text/x-python",
   "name": "python",
   "nbconvert_exporter": "python",
   "pygments_lexer": "ipython3",
   "version": "3.9.5"
  }
 },
 "nbformat": 4,
 "nbformat_minor": 4
}
