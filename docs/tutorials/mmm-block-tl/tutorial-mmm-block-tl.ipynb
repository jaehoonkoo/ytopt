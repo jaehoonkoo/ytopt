{
 "cells": [
  {
   "cell_type": "markdown",
   "metadata": {},
   "source": [
    "Tutorial: Online tuning the block matrix multiplication with transfer learning\n",
    "===================\n",
    "\n",
    "This tutorial describes how to define autotuning problem and an evaluating method for autotuning the block matrix multiplication in online tuning settings. \n",
    "\n",
    "We assume that you have checked out a copy of `ytopt` and install `sdv` from [https://github.com/sdv-dev/SDV](https://github.com/sdv-dev/SDV). For guidelines on how to get ytopt and sdv set up, refer [Install instructions](https://github.com/ytopt-team/ytopt/blob/online/README.md). \n",
    "\n",
    "This example including the source code is borrowed from [http://opentuner.org/tutorial/gettingstarted/](http://opentuner.org/tutorial/gettingstarted/)."
   ]
  },
  {
   "cell_type": "markdown",
   "metadata": {},
   "source": [
    "Describing online tuning problem and our approach \n",
    "-----------------------\n",
    "\n",
    "Autotuning refers to the process of generating a search space of possible implementations/configurations of a kernel or an application and evaluating a subset of implementations/configurations on a target platform through empirical measurements to identify the high-performing implementation/configuration. \n",
    "\n",
    "Most tuners are designed for offline tuning. However, tuning online by using the auto-tuner in production is highly needed. \n",
    "\n",
    "In the online tuning settings, how to gather prior knowledge on search space offline and leverage this on a target task real time are the key. To this end, we introduce a generative model that learns the prior information to autotuning a target task online. Procedure of our approach is as follows: \n",
    "- Gather performances of different configurations on source tasks offline \n",
    "- Given the online targe task, use a generative model to learn prior knowledge and suggest a promising configuration in production. \n",
    "\n",
    "In this tutorial, we target to autotune the block size for matrix multiplication. Blocking is used to improve the temporal locality of inner loops such that data structures in a program are orgarnized into chunks, i.e. blocks (ref: [https://csapp.cs.cmu.edu/public/waside/waside-blocking.pdf](https://csapp.cs.cmu.edu/public/waside/waside-blocking.pdf)). We want to find the block size that gives the minimal execution time. \n",
    "\n",
    "In this tutorual, we use different block sizes to define source offline and target online tasks. \n",
    "\n",
    "- We use the sizes of lookups of (s)100, (m)200, (l)300 for offline tuning tasks and (target)500 for online tuning task.\n"
   ]
  },
  {
   "cell_type": "markdown",
   "metadata": {},
   "source": [
    "Autotuning source tasks offline\n",
    "-----------------------\n",
    "First, we autotune source tasks offline based on `ytopt` bayesian optimization (BO) search with Random Forest surrogate model.\n",
    "\n",
    "If you are not familiar with `ytopt` BO search. Please first follow a tutorial in <https://github.com/ytopt-team/ytopt/blob/online/docs/tutorials/mmm-block/tutorial-mmm-block.md>\n",
    "\n",
    "Our search space contains one parameter; `BLOCK_SIZE`: number of blocks.  "
   ]
  },
  {
   "cell_type": "code",
   "execution_count": null,
   "metadata": {},
   "outputs": [],
   "source": [
    "# create an object of ConfigSpace\n",
    "cs = CS.ConfigurationSpace(seed=1234)\n",
    "#block size for openmp dynamic schedule\n",
    "p0= CSH.UniformIntegerHyperparameter(name='BLOCK_SIZE', lower=1, upper=100, default_value=5)\n",
    "cs.add_hyperparameters([p0])\n",
    "# problem space\n",
    "input_space = cs\n",
    "output_space = Space([Real(0.0, inf, name=\"time\")])"
   ]
  },
  {
   "cell_type": "markdown",
   "metadata": {},
   "source": [
    "We define a search problem for each source task:\n",
    "- `https://github.com/ytopt-team/ytopt/blob/online-mmm-block/ytopt/benchmark/mmm-block-tl/mmm_problem/problem_s.py`\n",
    "- `https://github.com/ytopt-team/ytopt/blob/online-mmm-block/ytopt/benchmark/mmm-block-tl/mmm_problem/problem_m.py`  \n",
    "- `https://github.com/ytopt-team/ytopt/blob/online-mmm-block/ytopt/benchmark/mmm-block-tl/mmm_problem/problem_l.py`  \n",
    "\n",
    "and an evaluating method (Plopper) for code generation and compilation:\n",
    "- `https://github.com/ytopt-team/ytopt/blob/online-mmm-block/ytopt/benchmark/mmm-block-tl/plopper/plopper.py`\n",
    "\n",
    "and a perl file to computes average the execution time:\n",
    "- `https://github.com/ytopt-team/ytopt/blob/online-mmm-block/ytopt/benchmark/mmm-block-tl/mmm_problem/exe.pl`\n",
    " \n",
    " \n",
    "<!-- [Source task 1 (s): 100000 lookups](https://github.com/ytopt-team/ytopt/blob/online/ytopt/benchmark/xsbench-omp-tl/xsbench/problem_s.py)  \n",
    "[Source task 2 (m): 1000000 lookups](https://github.com/ytopt-team/ytopt/blob/online/ytopt/benchmark/xsbench-omp-tl/xsbench/problem_m.py) \n",
    "[Source task 3 (l): 5000000 lookups](https://github.com/ytopt-team/ytopt/blob/online/ytopt/benchmark/xsbench-omp-tl/xsbench/problem_l.py)  -->"
   ]
  },
  {
   "cell_type": "markdown",
   "metadata": {},
   "source": [
    "We run the following command to autotune each task: \n",
    "\n",
    "Go to where the tuning problem is located such as\n",
    "- `cd ytopt/benchmark/mmm-block-tl/mmm-block`\n",
    "\n",
    "And start search    \n",
    "- `python -m ytopt.search.ambs --evaluator ray --problem problem_s.Problem --max-evals=30 --learner RF`\n",
    "- `python -m ytopt.search.ambs --evaluator ray --problem problem_m.Problem --max-evals=30 --learner RF`\n",
    "- `python -m ytopt.search.ambs --evaluator ray --problem problem_l.Problem --max-evals=30 --learner RF`\n",
    "\n",
    "Once the search is finished, place the csv files in the same folder:\n",
    "- `https://github.com/ytopt-team/ytopt/blob/online/ytopt/benchmark/mmm-block-tl/mmm-block/results_rf_100.csv`\n",
    "- `https://github.com/ytopt-team/ytopt/blob/online/ytopt/benchmark/mmm-block-tl/mmm-block/results_rf_200.csv` \n",
    "- `https://github.com/ytopt-team/ytopt/blob/online/ytopt/benchmark/mmm-block-tl/mmm-block/results_rf_300.csv`\n",
    "\n",
    "`https://github.com/ytopt-team/ytopt/blob/online-mmm-block/ytopt/benchmark/mmm-block-tl/mmm_problem/run.sh` is the run file to do all searches. "
   ]
  },
  {
   "cell_type": "markdown",
   "metadata": {},
   "source": [
    "Autotuning target task online\n",
    "-----------------------\n",
    "\n",
    "Now, we describe a standalone code to autotune a target task online `<https://github.com/ytopt-team/ytopt/blob/online-mmm-block/ytopt/benchmark/mmm-block-tl/mmm_problem/Run_online_TL.py>` \n",
    "\n",
    "It provides options: --max-evals flag sets the maximum number of evaluations, --n_refit flag sets how often to refit the generative model, --top flag sets how many of data from source tasks to use to train the generative model."
   ]
  },
  {
   "cell_type": "markdown",
   "metadata": {},
   "source": [
    "- Define the objective function `myobj` to evaluate a point in the search space."
   ]
  },
  {
   "cell_type": "code",
   "execution_count": null,
   "metadata": {},
   "outputs": [],
   "source": [
    "dir_path = os.path.dirname(os.path.realpath(__file__))\n",
    "kernel_idx = dir_path.rfind('/')\n",
    "kernel = dir_path[kernel_idx+1:]\n",
    "obj = Plopper(dir_path+'/mmm_block_'+TARGET_task+'.cpp',dir_path)\n",
    "\n",
    "x1=['BLOCK_SIZE']\n",
    "def myobj(point: dict):\n",
    "    def plopper_func(x):\n",
    "        x = np.asarray_chkfinite(x)  # ValueError if any NaN or Inf\n",
    "        value = [point[x1[0]]]\n",
    "        print('CONFIG:',point)\n",
    "        params = [\"BLOCK_SIZE\"]\n",
    "        result = obj.findRuntime(value, params)\n",
    "        return result\n",
    "\n",
    "    x = np.array([point['BLOCK_SIZE']])\n",
    "    results = plopper_func(x)\n",
    "    print('OUTPUT:%f',results)\n",
    "    return results"
   ]
  },
  {
   "cell_type": "markdown",
   "metadata": {},
   "source": [
    "- Load data from source tasks. "
   ]
  },
  {
   "cell_type": "code",
   "execution_count": null,
   "metadata": {},
   "outputs": [],
   "source": [
    "X_opt = []\n",
    "cutoff_p = TOP\n",
    "print ('----------------------------- how much data to use?', cutoff_p) \n",
    "param_names = x1\n",
    "n_param = len(param_names)\n",
    "frames = []\n",
    "for i_size in ['100','200','300']:#\n",
    "    dataframe = pd.read_csv(dir_path+\"/results_rf_\"+str(i_size)+\".csv\")  \n",
    "    dataframe['runtime'] = np.log(dataframe['objective']) # log(run time)\n",
    "    dataframe['input']   = pd.Series(int(i_size) for _ in range(len(dataframe.index)))\n",
    "    q_10_s = np.quantile(dataframe.runtime.values, cutoff_p)\n",
    "    real_df = dataframe.loc[dataframe['runtime'] <= q_10_s]\n",
    "    real_data = real_df.drop(columns=['elapsed_sec'])\n",
    "    real_data = real_data.drop(columns=['objective'])\n",
    "    frames.append(real_data)      \n",
    "real_data   = pd.concat(frames)"
   ]
  },
  {
   "cell_type": "markdown",
   "metadata": {},
   "source": [
    "- Define a generative model "
   ]
  },
  {
   "cell_type": "code",
   "execution_count": null,
   "metadata": {},
   "outputs": [],
   "source": [
    "constraint_input = Between(\n",
    "    column='input',\n",
    "    low=1,\n",
    "    high=500,\n",
    "    )\n",
    "\n",
    "model = GaussianCopula(\n",
    "            field_names = ['input','BLOCK_SIZE','runtime'],    \n",
    "            field_transformers = {'input': 'integer',\n",
    "                                  'BLOCK_SIZE': 'integer',\n",
    "                                  'runtime': 'float'},\n",
    "            constraints=[constraint_input],\n",
    "            min_value =None,\n",
    "            max_value =None\n",
    "    )"
   ]
  },
  {
   "cell_type": "markdown",
   "metadata": {},
   "source": [
    "- Fit the generative model and suggested configurations are evaluated"
   ]
  },
  {
   "cell_type": "code",
   "execution_count": null,
   "metadata": {},
   "outputs": [],
   "source": [
    "Max_evals = MAX_EVALS\n",
    "eval_master = 0\n",
    "while eval_master < Max_evals:         \n",
    "    # update model\n",
    "    model.fit(real_data)\n",
    "    conditions = {'input': TARGET_task}\n",
    "    ss1 = model.sample(max(100,Max_evals),conditions=conditions)\n",
    "    ss1 = ss1.drop_duplicates(subset='BLOCK_SIZE', keep=\"first\")\n",
    "    ss  = ss1.sort_values(by='runtime')\n",
    "    new_sdv = ss[:Max_evals]\n",
    "    max_evals = N_REFIT\n",
    "    eval_update = 0\n",
    "    stop = False\n",
    "    while stop == False:\n",
    "        for row in new_sdv.iterrows():\n",
    "            if eval_update == max_evals:\n",
    "                stop = True\n",
    "                break    \n",
    "            sample_point_val = row[1].values[1:]\n",
    "            sample_point = {x1[0]:sample_point_val[0]}\n",
    "            res          = myobj(sample_point)\n",
    "            print (sample_point, res)"
   ]
  },
  {
   "cell_type": "markdown",
   "metadata": {},
   "source": [
    "- Start search\n",
    "\n",
    "`python Run_online_TL.py --max_evals 10 --n_refit 10 --target 500 --top 0.3`\n",
    "\n",
    "Look up the best configuration (found so far) and its value by inspecting the following created file: `results_sdv.csv`"
   ]
  },
  {
   "cell_type": "markdown",
   "metadata": {},
   "source": [
    "The result shows search by and our model based online tuning. It shows tha our approach finds a high perfoming confiruation at the beginning of the search. \n",
    "\n",
    "<!-- ![xsbench tl](xsbench_tl.png) -->"
   ]
  },
  {
   "cell_type": "markdown",
   "metadata": {},
   "source": [
    "### Please check out another example of the OpenMP version of XSBench online \n",
    "- <https://github.com/ytopt-team/ytopt/blob/online/docs/tutorials/omp-xsbench-tl/tutorial-omp-xsbench-tl.md>"
   ]
  },
  {
   "cell_type": "code",
   "execution_count": null,
   "metadata": {},
   "outputs": [],
   "source": []
  },
  {
   "cell_type": "code",
   "execution_count": null,
   "metadata": {},
   "outputs": [],
   "source": []
  }
 ],
 "metadata": {
  "kernelspec": {
   "display_name": "Python 3",
   "language": "python",
   "name": "python3"
  },
  "language_info": {
   "codemirror_mode": {
    "name": "ipython",
    "version": 3
   },
   "file_extension": ".py",
   "mimetype": "text/x-python",
   "name": "python",
   "nbconvert_exporter": "python",
   "pygments_lexer": "ipython3",
   "version": "3.8.8"
  }
 },
 "nbformat": 4,
 "nbformat_minor": 1
}
